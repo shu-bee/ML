{
 "cells": [
  {
   "cell_type": "markdown",
   "id": "social-addiction",
   "metadata": {
    "papermill": {
     "duration": 0.037986,
     "end_time": "2021-06-27T07:21:44.911059",
     "exception": false,
     "start_time": "2021-06-27T07:21:44.873073",
     "status": "completed"
    },
    "tags": []
   },
   "source": [
    "# About\n",
    "\n",
    "Trained a `New MLM` and added on [External_Datasets_Matching + MLM](https://www.kaggle.com/chienhsianghung/external-datasets-matching-mlm).\n",
    "\n",
    "\n",
    "`New MLM`\n",
    "- [[Coleridge] BERT - MLMv4](https://www.kaggle.com/chienhsianghung/coleridge-bert-mlmv4)\n"
   ]
  },
  {
   "cell_type": "markdown",
   "id": "superb-strengthening",
   "metadata": {
    "papermill": {
     "duration": 0.035351,
     "end_time": "2021-06-27T07:21:44.981952",
     "exception": false,
     "start_time": "2021-06-27T07:21:44.946601",
     "status": "completed"
    },
    "tags": []
   },
   "source": [
    "# Setting"
   ]
  },
  {
   "cell_type": "code",
   "execution_count": 1,
   "id": "controversial-tackle",
   "metadata": {
    "execution": {
     "iopub.execute_input": "2021-06-27T07:21:45.058145Z",
     "iopub.status.busy": "2021-06-27T07:21:45.057647Z",
     "iopub.status.idle": "2021-06-27T07:21:45.061279Z",
     "shell.execute_reply": "2021-06-27T07:21:45.060786Z",
     "shell.execute_reply.started": "2021-06-27T07:14:08.503881Z"
    },
    "papermill": {
     "duration": 0.044233,
     "end_time": "2021-06-27T07:21:45.061394",
     "exception": false,
     "start_time": "2021-06-27T07:21:45.017161",
     "status": "completed"
    },
    "tags": []
   },
   "outputs": [],
   "source": [
    "COMPUTE_CV = False\n",
    "EDA_DEMO = False\n",
    "ALL_BLENDED = False\n",
    "BASELINE_HELPING = False\n",
    "MATCH_ONLY = False\n",
    "MLM_ONLY = False\n",
    "KEN_MATCHING = True\n",
    "BS_CLEANING = False\n",
    "THEO_MERGE = False\n",
    "SEED = 42"
   ]
  },
  {
   "cell_type": "markdown",
   "id": "accepted-halifax",
   "metadata": {
    "_cell_guid": "b1076dfc-b9ad-4769-8c92-a6c4dae69d19",
    "_uuid": "8f2839f25d086af736a60e9eeb907d3b93b6e0e5",
    "papermill": {
     "duration": 0.034327,
     "end_time": "2021-06-27T07:21:45.130448",
     "exception": false,
     "start_time": "2021-06-27T07:21:45.096121",
     "status": "completed"
    },
    "tags": []
   },
   "source": [
    "# Install packages"
   ]
  },
  {
   "cell_type": "code",
   "execution_count": 2,
   "id": "medical-edinburgh",
   "metadata": {
    "_kg_hide-output": true,
    "execution": {
     "iopub.execute_input": "2021-06-27T07:21:45.218354Z",
     "iopub.status.busy": "2021-06-27T07:21:45.208472Z",
     "iopub.status.idle": "2021-06-27T07:23:12.494337Z",
     "shell.execute_reply": "2021-06-27T07:23:12.493903Z",
     "shell.execute_reply.started": "2021-06-27T07:14:08.531247Z"
    },
    "papermill": {
     "duration": 87.329756,
     "end_time": "2021-06-27T07:23:12.494494",
     "exception": false,
     "start_time": "2021-06-27T07:21:45.164738",
     "status": "completed"
    },
    "tags": []
   },
   "outputs": [],
   "source": [
    "!pip install datasets --no-index --find-links=file:///kaggle/input/coleridge-packages/packages/datasets\n",
    "!pip install ../input/coleridge-packages/seqeval-1.2.2-py3-none-any.whl\n",
    "!pip install ../input/coleridge-packages/tokenizers-0.10.1-cp37-cp37m-manylinux1_x86_64.whl\n",
    "!pip install ../input/coleridge-packages/transformers-4.5.0.dev0-py3-none-any.whl\n",
    "\n",
    "from IPython.display import clear_output\n",
    "clear_output()"
   ]
  },
  {
   "cell_type": "markdown",
   "id": "radical-conjunction",
   "metadata": {
    "papermill": {
     "duration": 0.034208,
     "end_time": "2021-06-27T07:23:12.563771",
     "exception": false,
     "start_time": "2021-06-27T07:23:12.529563",
     "status": "completed"
    },
    "tags": []
   },
   "source": [
    "# Import"
   ]
  },
  {
   "cell_type": "code",
   "execution_count": 3,
   "id": "dietary-charleston",
   "metadata": {
    "execution": {
     "iopub.execute_input": "2021-06-27T07:23:12.642306Z",
     "iopub.status.busy": "2021-06-27T07:23:12.641507Z",
     "iopub.status.idle": "2021-06-27T07:23:20.057253Z",
     "shell.execute_reply": "2021-06-27T07:23:20.056690Z",
     "shell.execute_reply.started": "2021-06-27T07:15:35.981943Z"
    },
    "papermill": {
     "duration": 7.459537,
     "end_time": "2021-06-27T07:23:20.057383",
     "exception": false,
     "start_time": "2021-06-27T07:23:12.597846",
     "status": "completed"
    },
    "tags": []
   },
   "outputs": [
    {
     "name": "stderr",
     "output_type": "stream",
     "text": [
      "/opt/conda/lib/python3.7/site-packages/ipykernel_launcher.py:12: TqdmExperimentalWarning: Using `tqdm.autonotebook.tqdm` in notebook mode. Use `tqdm.tqdm` instead to force console mode (e.g. in jupyter console)\n",
      "  if sys.path[0] == '':\n"
     ]
    },
    {
     "name": "stdout",
     "output_type": "stream",
     "text": [
      "this submission notebook will only be used to submit result\n"
     ]
    }
   ],
   "source": [
    "import os\n",
    "import re\n",
    "import json\n",
    "import time\n",
    "import random\n",
    "import glob\n",
    "import importlib\n",
    "\n",
    "import numpy as np\n",
    "import pandas as pd\n",
    "\n",
    "from tqdm.autonotebook import tqdm\n",
    "\n",
    "import torch\n",
    "from datasets import load_dataset\n",
    "from transformers import AutoTokenizer, DataCollatorForLanguageModeling, \\\n",
    "AutoModelForMaskedLM, Trainer, TrainingArguments, pipeline\n",
    "\n",
    "from typing import List\n",
    "import string\n",
    "from functools import partial\n",
    "import warnings\n",
    "warnings.filterwarnings(\"ignore\", 'This pattern has match groups')\n",
    "\n",
    "random.seed(SEED)\n",
    "np.random.seed(SEED)\n",
    "torch.manual_seed(SEED)\n",
    "torch.backends.cudnn.deterministic = True\n",
    "torch.backends.cudnn.benchmark = False\n",
    "\n",
    "sample_submission = pd.read_csv('../input/coleridgeinitiative-show-us-the-data/sample_submission.csv')\n",
    "if len(sample_submission) > 4: COMPUTE_CV = False\n",
    "if COMPUTE_CV: \n",
    "    print('this submission notebook will compute CV score but commit notebook will not')\n",
    "else:\n",
    "    print('this submission notebook will only be used to submit result')"
   ]
  },
  {
   "cell_type": "markdown",
   "id": "ongoing-ocean",
   "metadata": {
    "papermill": {
     "duration": 0.03448,
     "end_time": "2021-06-27T07:23:20.127833",
     "exception": false,
     "start_time": "2021-06-27T07:23:20.093353",
     "status": "completed"
    },
    "tags": []
   },
   "source": [
    "# Load data"
   ]
  },
  {
   "cell_type": "code",
   "execution_count": 4,
   "id": "featured-financing",
   "metadata": {
    "execution": {
     "iopub.execute_input": "2021-06-27T07:23:20.204231Z",
     "iopub.status.busy": "2021-06-27T07:23:20.203677Z",
     "iopub.status.idle": "2021-06-27T07:23:20.311009Z",
     "shell.execute_reply": "2021-06-27T07:23:20.310036Z",
     "shell.execute_reply.started": "2021-06-27T07:15:43.014087Z"
    },
    "papermill": {
     "duration": 0.148741,
     "end_time": "2021-06-27T07:23:20.311148",
     "exception": false,
     "start_time": "2021-06-27T07:23:20.162407",
     "status": "completed"
    },
    "tags": []
   },
   "outputs": [],
   "source": [
    "train_path = '../input/coleridgeinitiative-show-us-the-data/train.csv'\n",
    "train_files_path = '../input/coleridgeinitiative-show-us-the-data/train'\n",
    "train = pd.read_csv(train_path)\n",
    "\n",
    "if COMPUTE_CV: \n",
    "    sample_submission = train\n",
    "    paper_test_folder = '../input/coleridgeinitiative-show-us-the-data/train'\n",
    "    test_files_path = paper_test_folder\n",
    "else:\n",
    "    sample_submission = pd.read_csv('../input/coleridgeinitiative-show-us-the-data/sample_submission.csv')\n",
    "    paper_test_folder = '../input/coleridgeinitiative-show-us-the-data/test'\n",
    "    test_files_path = paper_test_folder\n",
    "    \n",
    "adnl_govt_labels_path = '../input/data-set-26897kai/data_set_800kai.csv'"
   ]
  },
  {
   "cell_type": "code",
   "execution_count": 5,
   "id": "painful-terrorism",
   "metadata": {
    "execution": {
     "iopub.execute_input": "2021-06-27T07:23:20.411542Z",
     "iopub.status.busy": "2021-06-27T07:23:20.392716Z",
     "iopub.status.idle": "2021-06-27T07:23:20.453168Z",
     "shell.execute_reply": "2021-06-27T07:23:20.452777Z",
     "shell.execute_reply.started": "2021-06-27T07:15:43.120603Z"
    },
    "papermill": {
     "duration": 0.106898,
     "end_time": "2021-06-27T07:23:20.453278",
     "exception": false,
     "start_time": "2021-06-27T07:23:20.346380",
     "status": "completed"
    },
    "tags": []
   },
   "outputs": [
    {
     "data": {
      "application/vnd.jupyter.widget-view+json": {
       "model_id": "32e706124bd84775b10097a505f2c79c",
       "version_major": 2,
       "version_minor": 0
      },
      "text/plain": [
       "HBox(children=(FloatProgress(value=0.0, max=4.0), HTML(value='')))"
      ]
     },
     "metadata": {},
     "output_type": "display_data"
    },
    {
     "name": "stdout",
     "output_type": "stream",
     "text": [
      "\n"
     ]
    }
   ],
   "source": [
    "papers = {}\n",
    "for paper_id in tqdm(sample_submission['Id']):\n",
    "    with open(f'{paper_test_folder}/{paper_id}.json', 'r') as f:\n",
    "        paper = json.load(f)\n",
    "        papers[paper_id] = paper"
   ]
  },
  {
   "cell_type": "markdown",
   "id": "looking-engineer",
   "metadata": {
    "papermill": {
     "duration": 0.034915,
     "end_time": "2021-06-27T07:23:20.523793",
     "exception": false,
     "start_time": "2021-06-27T07:23:20.488878",
     "status": "completed"
    },
    "tags": []
   },
   "source": [
    "## A Bit EDA"
   ]
  },
  {
   "cell_type": "code",
   "execution_count": 6,
   "id": "assumed-batman",
   "metadata": {
    "execution": {
     "iopub.execute_input": "2021-06-27T07:23:20.600761Z",
     "iopub.status.busy": "2021-06-27T07:23:20.600095Z",
     "iopub.status.idle": "2021-06-27T07:23:20.603779Z",
     "shell.execute_reply": "2021-06-27T07:23:20.603357Z",
     "shell.execute_reply.started": "2021-06-27T07:15:43.185221Z"
    },
    "papermill": {
     "duration": 0.044755,
     "end_time": "2021-06-27T07:23:20.603887",
     "exception": false,
     "start_time": "2021-06-27T07:23:20.559132",
     "status": "completed"
    },
    "tags": []
   },
   "outputs": [],
   "source": [
    "if EDA_DEMO:\n",
    "    df_input = pd.DataFrame(columns=['id','section_title','text','data_label'])\n",
    "    for id in tqdm(train['Id'].values):\n",
    "        df=pd.read_json('../input/coleridgeinitiative-show-us-the-data/train/{}.json'.format(id))    \n",
    "        for data_label in train[train['Id']==id]['dataset_label'].values:        \n",
    "            new_df=df[df['text'].str.contains(data_label)].copy(deep=True)\n",
    "            new_df.loc[:,['data_label']] = data_label\n",
    "            new_df.loc[:,['id']] = id\n",
    "            new_df.reset_index(inplace=True,drop=True)\n",
    "            df_input=pd.concat([df_input, new_df], ignore_index=True)\n",
    "            df_input.reset_index(inplace=True,drop=True)\n",
    "else: df_input = None\n",
    "\n",
    "df_input"
   ]
  },
  {
   "cell_type": "code",
   "execution_count": 7,
   "id": "manufactured-thailand",
   "metadata": {
    "execution": {
     "iopub.execute_input": "2021-06-27T07:23:20.678806Z",
     "iopub.status.busy": "2021-06-27T07:23:20.678273Z",
     "iopub.status.idle": "2021-06-27T07:23:20.681950Z",
     "shell.execute_reply": "2021-06-27T07:23:20.681544Z",
     "shell.execute_reply.started": "2021-06-27T07:15:43.195656Z"
    },
    "papermill": {
     "duration": 0.042092,
     "end_time": "2021-06-27T07:23:20.682054",
     "exception": false,
     "start_time": "2021-06-27T07:23:20.639962",
     "status": "completed"
    },
    "tags": []
   },
   "outputs": [],
   "source": [
    "if EDA_DEMO: df_input = df_input[ df_input['section_title'] != '' ]\n",
    "\n",
    "df_input"
   ]
  },
  {
   "cell_type": "markdown",
   "id": "seven-suicide",
   "metadata": {
    "papermill": {
     "duration": 0.035267,
     "end_time": "2021-06-27T07:23:20.752755",
     "exception": false,
     "start_time": "2021-06-27T07:23:20.717488",
     "status": "completed"
    },
    "tags": []
   },
   "source": [
    "# Literal Matching"
   ]
  },
  {
   "cell_type": "markdown",
   "id": "technical-richardson",
   "metadata": {
    "papermill": {
     "duration": 0.034877,
     "end_time": "2021-06-27T07:23:20.822717",
     "exception": false,
     "start_time": "2021-06-27T07:23:20.787840",
     "status": "completed"
    },
    "tags": []
   },
   "source": [
    "### Create a Knowledge Bank"
   ]
  },
  {
   "cell_type": "code",
   "execution_count": 8,
   "id": "mysterious-snowboard",
   "metadata": {
    "execution": {
     "iopub.execute_input": "2021-06-27T07:23:20.923498Z",
     "iopub.status.busy": "2021-06-27T07:23:20.913268Z",
     "iopub.status.idle": "2021-06-27T07:23:20.949924Z",
     "shell.execute_reply": "2021-06-27T07:23:20.949339Z",
     "shell.execute_reply.started": "2021-06-27T07:15:43.203190Z"
    },
    "papermill": {
     "duration": 0.092045,
     "end_time": "2021-06-27T07:23:20.950064",
     "exception": false,
     "start_time": "2021-06-27T07:23:20.858019",
     "status": "completed"
    },
    "tags": []
   },
   "outputs": [
    {
     "name": "stdout",
     "output_type": "stream",
     "text": [
      "No. different labels: 180\n"
     ]
    }
   ],
   "source": [
    "all_labels = set()\n",
    "\n",
    "for label_1, label_2, label_3 in train[['dataset_title', 'dataset_label', 'cleaned_label']].itertuples(index=False):\n",
    "    all_labels.add(str(label_1).lower())\n",
    "    all_labels.add(str(label_2).lower())\n",
    "    all_labels.add(str(label_3).lower())\n",
    "    \n",
    "print(f'No. different labels: {len(all_labels)}')"
   ]
  },
  {
   "cell_type": "markdown",
   "id": "pharmaceutical-token",
   "metadata": {
    "papermill": {
     "duration": 0.035349,
     "end_time": "2021-06-27T07:23:21.021696",
     "exception": false,
     "start_time": "2021-06-27T07:23:20.986347",
     "status": "completed"
    },
    "tags": []
   },
   "source": [
    "#### Additional Govt Datasets"
   ]
  },
  {
   "cell_type": "code",
   "execution_count": 9,
   "id": "operational-checklist",
   "metadata": {
    "execution": {
     "iopub.execute_input": "2021-06-27T07:23:21.103522Z",
     "iopub.status.busy": "2021-06-27T07:23:21.102995Z",
     "iopub.status.idle": "2021-06-27T07:23:21.117869Z",
     "shell.execute_reply": "2021-06-27T07:23:21.117417Z",
     "shell.execute_reply.started": "2021-06-27T07:15:43.270989Z"
    },
    "papermill": {
     "duration": 0.060677,
     "end_time": "2021-06-27T07:23:21.117976",
     "exception": false,
     "start_time": "2021-06-27T07:23:21.057299",
     "status": "completed"
    },
    "tags": []
   },
   "outputs": [
    {
     "name": "stdout",
     "output_type": "stream",
     "text": [
      "No. different labels: 2159\n"
     ]
    }
   ],
   "source": [
    "adnl_govt_labels = pd.read_csv(adnl_govt_labels_path)\n",
    "\n",
    "for l in adnl_govt_labels.title:\n",
    "    all_labels.add(l)\n",
    "    \n",
    "all_labels = set(all_labels)\n",
    "print(f'No. different labels: {len(all_labels)}')"
   ]
  },
  {
   "cell_type": "markdown",
   "id": "southern-princeton",
   "metadata": {
    "papermill": {
     "duration": 0.03611,
     "end_time": "2021-06-27T07:23:21.190017",
     "exception": false,
     "start_time": "2021-06-27T07:23:21.153907",
     "status": "completed"
    },
    "tags": []
   },
   "source": [
    "### Matching on test data"
   ]
  },
  {
   "cell_type": "code",
   "execution_count": 10,
   "id": "broke-subscriber",
   "metadata": {
    "execution": {
     "iopub.execute_input": "2021-06-27T07:23:21.273012Z",
     "iopub.status.busy": "2021-06-27T07:23:21.272326Z",
     "iopub.status.idle": "2021-06-27T07:23:21.275392Z",
     "shell.execute_reply": "2021-06-27T07:23:21.275772Z",
     "shell.execute_reply.started": "2021-06-27T07:15:43.302761Z"
    },
    "papermill": {
     "duration": 0.049986,
     "end_time": "2021-06-27T07:23:21.275891",
     "exception": false,
     "start_time": "2021-06-27T07:23:21.225905",
     "status": "completed"
    },
    "tags": []
   },
   "outputs": [],
   "source": [
    "def clean_text(txt):\n",
    "    return re.sub('[^A-Za-z0-9]+', ' ', str(txt).lower()).strip()\n",
    "\n",
    "\n",
    "def totally_clean_text(txt):\n",
    "    txt = clean_text(txt)\n",
    "    txt = re.sub(' +', ' ', txt)\n",
    "    return txt\n",
    "\n",
    "if not BS_CLEANING:\n",
    "    def text_cleaning(text):\n",
    "        '''\n",
    "        Converts all text to lower case, Removes special charecters, emojis and multiple spaces\n",
    "        text - Sentence that needs to be cleaned\n",
    "        '''\n",
    "        text = re.sub('[^A-Za-z0-9]+', ' ', str(text).lower()).strip()\n",
    "        text = re.sub(' +', ' ', text)\n",
    "        emoji_pattern = re.compile(\"[\"\n",
    "                                   u\"\\U0001F600-\\U0001F64F\"  # emoticons\n",
    "                                   u\"\\U0001F300-\\U0001F5FF\"  # symbols & pictographs\n",
    "                                   u\"\\U0001F680-\\U0001F6FF\"  # transport & map symbols\n",
    "                                   u\"\\U0001F1E0-\\U0001F1FF\"  # flags (iOS)\n",
    "                                   \"]+\", flags=re.UNICODE)\n",
    "        text = emoji_pattern.sub(r'', text)\n",
    "        return text\n",
    "else:\n",
    "    def text_cleaning(text):\n",
    "        '''\n",
    "        Converts all text to lower case, Removes special charecters, emojis and multiple spaces\n",
    "        text - Sentence that needs to be cleaned\n",
    "        '''\n",
    "        text = ''.join([k for k in text if k not in string.punctuation])\n",
    "        text = re.sub('[^A-Za-z0-9]+', ' ', str(text).lower()).strip()\n",
    "        # text = re.sub(\"/'+/g\", ' ', text)\n",
    "        return text\n",
    "\n",
    "\n",
    "def read_json_pub(filename, train_data_path=train_files_path, output='text'):\n",
    "    json_path = os.path.join(train_data_path, (filename+'.json'))\n",
    "    headings = []\n",
    "    contents = []\n",
    "    combined = []\n",
    "    with open(json_path, 'r') as f:\n",
    "        json_decode = json.load(f)\n",
    "        for data in json_decode:\n",
    "            headings.append(data.get('section_title'))\n",
    "            contents.append(data.get('text'))\n",
    "            combined.append(data.get('section_title'))\n",
    "            combined.append(data.get('text'))\n",
    "    \n",
    "    all_headings = ' '.join(headings)\n",
    "    all_contents = ' '.join(contents)\n",
    "    all_data = '. '.join(combined)\n",
    "    \n",
    "    if output == 'text':\n",
    "        return all_contents\n",
    "    elif output == 'head':\n",
    "        return all_headings\n",
    "    else:\n",
    "        return all_data"
   ]
  },
  {
   "cell_type": "code",
   "execution_count": 11,
   "id": "intimate-manual",
   "metadata": {
    "execution": {
     "iopub.execute_input": "2021-06-27T07:23:21.353968Z",
     "iopub.status.busy": "2021-06-27T07:23:21.353236Z",
     "iopub.status.idle": "2021-06-27T07:23:21.355942Z",
     "shell.execute_reply": "2021-06-27T07:23:21.355357Z",
     "shell.execute_reply.started": "2021-06-27T07:15:43.331827Z"
    },
    "papermill": {
     "duration": 0.044115,
     "end_time": "2021-06-27T07:23:21.356052",
     "exception": false,
     "start_time": "2021-06-27T07:23:21.311937",
     "status": "completed"
    },
    "tags": []
   },
   "outputs": [],
   "source": [
    "if not KEN_MATCHING and not MLM_ONLY:\n",
    "    literal_preds = []\n",
    "    for paper_id in tqdm(sample_submission['Id']):\n",
    "        paper = papers[paper_id]\n",
    "        text_1 = '. '.join(section['text'] for section in paper).lower()\n",
    "        text_2 = totally_clean_text(text_1)\n",
    "\n",
    "        labels = set()\n",
    "        for label in all_labels:\n",
    "            if label in text_1 or label in text_2:\n",
    "                labels.add(clean_text(label))\n",
    "\n",
    "        literal_preds.append('|'.join(labels))\n",
    "    literal_preds[:5]"
   ]
  },
  {
   "cell_type": "markdown",
   "id": "introductory-discussion",
   "metadata": {
    "papermill": {
     "duration": 0.035571,
     "end_time": "2021-06-27T07:23:21.427297",
     "exception": false,
     "start_time": "2021-06-27T07:23:21.391726",
     "status": "completed"
    },
    "tags": []
   },
   "source": [
    "#### Ken Matching"
   ]
  },
  {
   "cell_type": "code",
   "execution_count": 12,
   "id": "generic-console",
   "metadata": {
    "execution": {
     "iopub.execute_input": "2021-06-27T07:23:21.524890Z",
     "iopub.status.busy": "2021-06-27T07:23:21.523941Z",
     "iopub.status.idle": "2021-06-27T07:23:22.570205Z",
     "shell.execute_reply": "2021-06-27T07:23:22.570817Z",
     "shell.execute_reply.started": "2021-06-27T07:15:43.348300Z"
    },
    "papermill": {
     "duration": 1.107935,
     "end_time": "2021-06-27T07:23:22.571013",
     "exception": false,
     "start_time": "2021-06-27T07:23:21.463078",
     "status": "completed"
    },
    "tags": []
   },
   "outputs": [
    {
     "data": {
      "application/vnd.jupyter.widget-view+json": {
       "model_id": "63e49bca13294fe28cc85b96ac275599",
       "version_major": 2,
       "version_minor": 0
      },
      "text/plain": [
       "HBox(children=(FloatProgress(value=1.0, bar_style='info', layout=Layout(width='20px'), max=1.0), HTML(value=''…"
      ]
     },
     "metadata": {},
     "output_type": "display_data"
    },
    {
     "name": "stdout",
     "output_type": "stream",
     "text": [
      "\n"
     ]
    }
   ],
   "source": [
    "literal_preds = []\n",
    "\n",
    "if KEN_MATCHING and not MLM_ONLY:\n",
    "    literal_preds = []\n",
    "    to_append = []\n",
    "    for index, row in tqdm(sample_submission.iterrows()):\n",
    "        to_append = [row['Id'],'']\n",
    "        large_string = str(read_json_pub(row['Id'], test_files_path))\n",
    "        clean_string = text_cleaning(large_string)\n",
    "        for index, row2 in adnl_govt_labels.iterrows():\n",
    "            query_string = str(row2['title'])\n",
    "            if query_string in clean_string:\n",
    "                if to_append[1] != '' and clean_text(query_string) not in to_append[1]:\n",
    "                    to_append[1] = to_append[1] + '|' + clean_text(query_string)\n",
    "                if to_append[1] == '':\n",
    "                    to_append[1] = clean_text(query_string)\n",
    "        literal_preds.append(*to_append[1:])\n",
    "\n",
    "elif MLM_ONLY:\n",
    "    print('This kernel will only use MLM model to predict.')"
   ]
  },
  {
   "cell_type": "markdown",
   "id": "eight-tissue",
   "metadata": {
    "papermill": {
     "duration": 0.037199,
     "end_time": "2021-06-27T07:23:22.646176",
     "exception": false,
     "start_time": "2021-06-27T07:23:22.608977",
     "status": "completed"
    },
    "tags": []
   },
   "source": [
    "# Masked Dataset Modeling"
   ]
  },
  {
   "cell_type": "markdown",
   "id": "removed-shepherd",
   "metadata": {
    "papermill": {
     "duration": 0.036238,
     "end_time": "2021-06-27T07:23:22.718761",
     "exception": false,
     "start_time": "2021-06-27T07:23:22.682523",
     "status": "completed"
    },
    "tags": []
   },
   "source": [
    "### Paths and Hyperparameters"
   ]
  },
  {
   "cell_type": "code",
   "execution_count": 13,
   "id": "equivalent-programmer",
   "metadata": {
    "execution": {
     "iopub.execute_input": "2021-06-27T07:23:22.796027Z",
     "iopub.status.busy": "2021-06-27T07:23:22.795293Z",
     "iopub.status.idle": "2021-06-27T07:23:22.798211Z",
     "shell.execute_reply": "2021-06-27T07:23:22.797816Z",
     "shell.execute_reply.started": "2021-06-27T07:15:44.695481Z"
    },
    "papermill": {
     "duration": 0.043093,
     "end_time": "2021-06-27T07:23:22.798315",
     "exception": false,
     "start_time": "2021-06-27T07:23:22.755222",
     "status": "completed"
    },
    "tags": []
   },
   "outputs": [],
   "source": [
    "if not MATCH_ONLY:\n",
    "    PRETRAINED_PATH = '../input/coleridge-bert-mlmv4/output-mlm/checkpoint-48000'\n",
    "    TOKENIZER_PATH = '../input/coleridge-bert-mlmv4/model_tokenizer'\n",
    "\n",
    "    MAX_LENGTH = 64\n",
    "    OVERLAP = 20\n",
    "\n",
    "    PREDICT_BATCH = 32 # a higher value requires higher GPU memory usage\n",
    "\n",
    "    DATASET_SYMBOL = '$' # this symbol represents a dataset name\n",
    "    NONDATA_SYMBOL = '#' # this symbol represents a non-dataset name"
   ]
  },
  {
   "cell_type": "markdown",
   "id": "phantom-forward",
   "metadata": {
    "papermill": {
     "duration": 0.036042,
     "end_time": "2021-06-27T07:23:22.870906",
     "exception": false,
     "start_time": "2021-06-27T07:23:22.834864",
     "status": "completed"
    },
    "tags": []
   },
   "source": [
    "# Transform data to MLM format"
   ]
  },
  {
   "cell_type": "markdown",
   "id": "closed-intervention",
   "metadata": {
    "papermill": {
     "duration": 0.036066,
     "end_time": "2021-06-27T07:23:22.943472",
     "exception": false,
     "start_time": "2021-06-27T07:23:22.907406",
     "status": "completed"
    },
    "tags": []
   },
   "source": [
    "### Load model and tokenizer"
   ]
  },
  {
   "cell_type": "code",
   "execution_count": 14,
   "id": "micro-success",
   "metadata": {
    "execution": {
     "iopub.execute_input": "2021-06-27T07:23:23.020732Z",
     "iopub.status.busy": "2021-06-27T07:23:23.020194Z",
     "iopub.status.idle": "2021-06-27T07:23:37.264792Z",
     "shell.execute_reply": "2021-06-27T07:23:37.265205Z",
     "shell.execute_reply.started": "2021-06-27T07:15:44.704093Z"
    },
    "papermill": {
     "duration": 14.285507,
     "end_time": "2021-06-27T07:23:37.265382",
     "exception": false,
     "start_time": "2021-06-27T07:23:22.979875",
     "status": "completed"
    },
    "tags": []
   },
   "outputs": [],
   "source": [
    "if not MATCH_ONLY:\n",
    "    tokenizer = AutoTokenizer.from_pretrained(TOKENIZER_PATH, use_fast=True)\n",
    "    model = AutoModelForMaskedLM.from_pretrained(PRETRAINED_PATH)\n",
    "\n",
    "    mlm = pipeline(\n",
    "        'fill-mask', \n",
    "        model=model,\n",
    "        tokenizer=tokenizer,\n",
    "        device=0 if torch.cuda.is_available() else -1\n",
    "    )"
   ]
  },
  {
   "cell_type": "markdown",
   "id": "suspected-graphic",
   "metadata": {
    "papermill": {
     "duration": 0.036427,
     "end_time": "2021-06-27T07:23:37.340364",
     "exception": false,
     "start_time": "2021-06-27T07:23:37.303937",
     "status": "completed"
    },
    "tags": []
   },
   "source": [
    "### Auxiliary functions"
   ]
  },
  {
   "cell_type": "code",
   "execution_count": 15,
   "id": "bibliographic-better",
   "metadata": {
    "execution": {
     "iopub.execute_input": "2021-06-27T07:23:37.427042Z",
     "iopub.status.busy": "2021-06-27T07:23:37.426278Z",
     "iopub.status.idle": "2021-06-27T07:23:37.429207Z",
     "shell.execute_reply": "2021-06-27T07:23:37.428810Z",
     "shell.execute_reply.started": "2021-06-27T07:15:57.024904Z"
    },
    "papermill": {
     "duration": 0.052184,
     "end_time": "2021-06-27T07:23:37.429313",
     "exception": false,
     "start_time": "2021-06-27T07:23:37.377129",
     "status": "completed"
    },
    "tags": []
   },
   "outputs": [],
   "source": [
    "def jaccard_similarity(s1, s2):\n",
    "    l1 = s1.split(\" \")\n",
    "    l2 = s2.split(\" \")    \n",
    "    intersection = len(list(set(l1).intersection(l2)))\n",
    "    union = (len(l1) + len(l2)) - intersection\n",
    "    return float(intersection) / union\n",
    "\n",
    "def clean_paper_sentence(s):\n",
    "    \"\"\"\n",
    "    This function is essentially clean_text without lowercasing.\n",
    "    \"\"\"\n",
    "    s = re.sub('[^A-Za-z0-9]+', ' ', str(s)).strip()\n",
    "    s = re.sub(' +', ' ', s)\n",
    "    return s\n",
    "\n",
    "def shorten_sentences(sentences):\n",
    "    \"\"\"\n",
    "    Sentences that have more than MAX_LENGTH words will be split\n",
    "    into multiple sentences with overlappings.\n",
    "    \"\"\"\n",
    "    short_sentences = []\n",
    "    for sentence in sentences:\n",
    "        words = sentence.split()\n",
    "        if len(words) > MAX_LENGTH:\n",
    "            for p in range(0, len(words), MAX_LENGTH - OVERLAP):\n",
    "                short_sentences.append(' '.join(words[p:p+MAX_LENGTH]))\n",
    "        else:\n",
    "            short_sentences.append(sentence)\n",
    "    return short_sentences\n",
    "\n",
    "connection_tokens = {'s', 'of', 'and', 'in', 'on', 'for', 'data', 'dataset'}\n",
    "def find_mask_candidates(sentence):\n",
    "    \"\"\"\n",
    "    Extract masking candidates for Masked Dataset Modeling from a given $sentence.\n",
    "    A candidate should be a continuous sequence of at least 2 words, \n",
    "    each of these words either has the first letter in uppercase or is one of\n",
    "    the connection words ($connection_tokens). Furthermore, the connection \n",
    "    tokens are not allowed to appear at the beginning and the end of the\n",
    "    sequence.\n",
    "    \"\"\"\n",
    "    def candidate_qualified(words):\n",
    "        while len(words) and words[0].lower() in connection_tokens:\n",
    "            words = words[1:]\n",
    "        while len(words) and words[-1].lower() in connection_tokens:\n",
    "            words = words[:-1]\n",
    "        \n",
    "        return len(words) >= 2\n",
    "    \n",
    "    candidates = []\n",
    "    \n",
    "    phrase_start, phrase_end = -1, -1\n",
    "    for id in range(1, len(sentence)):\n",
    "        word = sentence[id]\n",
    "        if word[0].isupper() or word in connection_tokens:\n",
    "            if phrase_start == -1:\n",
    "                phrase_start = phrase_end = id\n",
    "            else:\n",
    "                phrase_end = id\n",
    "        else:\n",
    "            if phrase_start != -1:\n",
    "                if candidate_qualified(sentence[phrase_start:phrase_end+1]):\n",
    "                    candidates.append((phrase_start, phrase_end))\n",
    "                phrase_start = phrase_end = -1\n",
    "    \n",
    "    if phrase_start != -1:\n",
    "        if candidate_qualified(sentence[phrase_start:phrase_end+1]):\n",
    "            candidates.append((phrase_start, phrase_end))\n",
    "    \n",
    "    return candidates"
   ]
  },
  {
   "cell_type": "markdown",
   "id": "returning-amplifier",
   "metadata": {
    "papermill": {
     "duration": 0.036258,
     "end_time": "2021-06-27T07:23:37.501996",
     "exception": false,
     "start_time": "2021-06-27T07:23:37.465738",
     "status": "completed"
    },
    "tags": []
   },
   "source": [
    "### Transform"
   ]
  },
  {
   "cell_type": "code",
   "execution_count": 16,
   "id": "northern-cleaning",
   "metadata": {
    "execution": {
     "iopub.execute_input": "2021-06-27T07:23:37.604607Z",
     "iopub.status.busy": "2021-06-27T07:23:37.603653Z",
     "iopub.status.idle": "2021-06-27T07:23:37.680142Z",
     "shell.execute_reply": "2021-06-27T07:23:37.679374Z",
     "shell.execute_reply.started": "2021-06-27T07:15:57.044278Z"
    },
    "papermill": {
     "duration": 0.14159,
     "end_time": "2021-06-27T07:23:37.680317",
     "exception": false,
     "start_time": "2021-06-27T07:23:37.538727",
     "status": "completed"
    },
    "tags": []
   },
   "outputs": [
    {
     "data": {
      "application/vnd.jupyter.widget-view+json": {
       "model_id": "93d2eb38e89947e5b7177e038c4e262e",
       "version_major": 2,
       "version_minor": 0
      },
      "text/plain": [
       "HBox(children=(FloatProgress(value=0.0, max=4.0), HTML(value='')))"
      ]
     },
     "metadata": {},
     "output_type": "display_data"
    },
    {
     "name": "stdout",
     "output_type": "stream",
     "text": [
      "\n"
     ]
    }
   ],
   "source": [
    "if not MATCH_ONLY:\n",
    "    mask = mlm.tokenizer.mask_token\n",
    "    all_test_data = []\n",
    "    \n",
    "    for paper_id in tqdm(sample_submission['Id']):\n",
    "        # load paper\n",
    "        paper = papers[paper_id]\n",
    "\n",
    "        # extract sentences\n",
    "        sentences = set([clean_paper_sentence(sentence) for section in paper \n",
    "                         for sentence in section['text'].split('.')\n",
    "                        ])\n",
    "        sentences = shorten_sentences(sentences) # make sentences short\n",
    "        sentences = [sentence for sentence in sentences if len(sentence) > 1] # only accept sentences with length > 1 chars\n",
    "        sentences = [sentence for sentence in sentences if any(word in sentence.lower() for word in ['data', 'study'])]\n",
    "        sentences = [sentence.split() for sentence in sentences] # sentence = list of words\n",
    "\n",
    "        # mask\n",
    "        test_data = []\n",
    "        for sentence in sentences:\n",
    "            for phrase_start, phrase_end in find_mask_candidates(sentence):\n",
    "                dt_point = sentence[:phrase_start] + [mask] + sentence[phrase_end+1:]\n",
    "                test_data.append((' '.join(dt_point), ' '.join(sentence[phrase_start:phrase_end+1]))) # (masked text, phrase)\n",
    "\n",
    "        all_test_data.append(test_data)"
   ]
  },
  {
   "cell_type": "markdown",
   "id": "extensive-flexibility",
   "metadata": {
    "papermill": {
     "duration": 0.03768,
     "end_time": "2021-06-27T07:23:37.759812",
     "exception": false,
     "start_time": "2021-06-27T07:23:37.722132",
     "status": "completed"
    },
    "tags": []
   },
   "source": [
    "### Predict"
   ]
  },
  {
   "cell_type": "code",
   "execution_count": 17,
   "id": "difficult-mongolia",
   "metadata": {
    "execution": {
     "iopub.execute_input": "2021-06-27T07:23:37.860020Z",
     "iopub.status.busy": "2021-06-27T07:23:37.858893Z",
     "iopub.status.idle": "2021-06-27T07:23:40.813169Z",
     "shell.execute_reply": "2021-06-27T07:23:40.812501Z",
     "shell.execute_reply.started": "2021-06-27T07:15:57.152586Z"
    },
    "papermill": {
     "duration": 3.016252,
     "end_time": "2021-06-27T07:23:40.813348",
     "exception": false,
     "start_time": "2021-06-27T07:23:37.797096",
     "status": "completed"
    },
    "scrolled": true,
    "tags": []
   },
   "outputs": [
    {
     "data": {
      "application/vnd.jupyter.widget-view+json": {
       "model_id": "85896b4756294bffa008ad67a968543b",
       "version_major": 2,
       "version_minor": 0
      },
      "text/plain": [
       "HBox(children=(FloatProgress(value=0.0, max=4.0), HTML(value='')))"
      ]
     },
     "metadata": {},
     "output_type": "display_data"
    },
    {
     "name": "stdout",
     "output_type": "stream",
     "text": [
      "\n"
     ]
    }
   ],
   "source": [
    "if not MATCH_ONLY:\n",
    "    pred_mlm_labels = []\n",
    "\n",
    "    for test_data in tqdm(all_test_data):\n",
    "        pred_bag = set()\n",
    "\n",
    "        if len(test_data):\n",
    "            texts, phrases = list(zip(*test_data))\n",
    "            mlm_pred = []\n",
    "            for p_id in range(0, len(texts), PREDICT_BATCH):\n",
    "                batch_texts = texts[p_id:p_id+PREDICT_BATCH]\n",
    "                batch_pred = mlm(list(batch_texts), targets=[f' {DATASET_SYMBOL}', f' {NONDATA_SYMBOL}'])\n",
    "\n",
    "                if len(batch_texts) == 1:\n",
    "                    batch_pred = [batch_pred]\n",
    "\n",
    "                mlm_pred.extend(batch_pred)\n",
    "\n",
    "            for (result1, result2), phrase in zip(mlm_pred, phrases):\n",
    "                if (result1['score'] > result2['score']*2 and result1['token_str'] == DATASET_SYMBOL) or\\\n",
    "                   (result2['score'] > result1['score']*2 and result2['token_str'] == NONDATA_SYMBOL):\n",
    "                    pred_bag.add(clean_text(phrase))\n",
    "\n",
    "        # filter labels by jaccard score \n",
    "        filtered_labels = []\n",
    "\n",
    "        for label in sorted(pred_bag, key=len, reverse=True):\n",
    "            if len(filtered_labels) == 0 or all(jaccard_similarity(label, got_label) < 0.75 for got_label in filtered_labels):\n",
    "                filtered_labels.append(label)\n",
    "\n",
    "        pred_mlm_labels.append('|'.join(filtered_labels))\n",
    "    \n",
    "    pred_mlm_labels[:5]"
   ]
  },
  {
   "cell_type": "code",
   "execution_count": 18,
   "id": "completed-pattern",
   "metadata": {
    "execution": {
     "iopub.execute_input": "2021-06-27T07:23:41.111786Z",
     "iopub.status.busy": "2021-06-27T07:23:41.110442Z",
     "iopub.status.idle": "2021-06-27T07:23:41.112473Z",
     "shell.execute_reply": "2021-06-27T07:23:41.111082Z",
     "shell.execute_reply.started": "2021-06-27T07:15:59.847987Z"
    },
    "papermill": {
     "duration": 0.140051,
     "end_time": "2021-06-27T07:23:41.112620",
     "exception": false,
     "start_time": "2021-06-27T07:23:40.972569",
     "status": "completed"
    },
    "tags": []
   },
   "outputs": [],
   "source": [
    "MAX_LENGTH = 64 # max no. words for each sentence.\n",
    "OVERLAP = 20 # if a sentence exceeds MAX_LENGTH, we split it to multiple sentences with overlapping\n",
    "\n",
    "PREDICT_BATCH = 64000 \n",
    "\n",
    "PRETRAINED_PATH = '../input/pytorch-bert-for-named-entity-recognition-v2/output/'\n",
    "TEST_INPUT_SAVE_PATH = './input_data'\n",
    "TEST_NER_DATA_FILE = 'test_ner_input.json'\n",
    "TRAIN_PATH = '../input/pytorch-bert-for-named-entity-recognition-v2/train_ner.json'\n",
    "VAL_PATH = '../input/pytorch-bert-for-named-entity-recognition-v2/train_ner.json'\n",
    "\n",
    "PREDICTION_SAVE_PATH = './pred'\n",
    "PREDICTION_FILE = 'test_predictions.txt'"
   ]
  },
  {
   "cell_type": "code",
   "execution_count": 19,
   "id": "geological-updating",
   "metadata": {
    "execution": {
     "iopub.execute_input": "2021-06-27T07:23:41.284658Z",
     "iopub.status.busy": "2021-06-27T07:23:41.283883Z",
     "iopub.status.idle": "2021-06-27T07:23:41.632144Z",
     "shell.execute_reply": "2021-06-27T07:23:41.632587Z",
     "shell.execute_reply.started": "2021-06-27T07:15:59.854980Z"
    },
    "papermill": {
     "duration": 0.398627,
     "end_time": "2021-06-27T07:23:41.632801",
     "exception": false,
     "start_time": "2021-06-27T07:23:41.234174",
     "status": "completed"
    },
    "tags": []
   },
   "outputs": [
    {
     "name": "stdout",
     "output_type": "stream",
     "text": [
      "No. grouped training rows: 14316\n"
     ]
    }
   ],
   "source": [
    "train = train.groupby('Id').agg({\n",
    "    'pub_title': 'first',\n",
    "    'dataset_title': '|'.join,\n",
    "    'dataset_label': '|'.join,\n",
    "    'cleaned_label': '|'.join\n",
    "}).reset_index()\n",
    "\n",
    "print(f'No. grouped training rows: {len(train)}')"
   ]
  },
  {
   "cell_type": "code",
   "execution_count": 20,
   "id": "waiting-arena",
   "metadata": {
    "execution": {
     "iopub.execute_input": "2021-06-27T07:23:41.722334Z",
     "iopub.status.busy": "2021-06-27T07:23:41.721817Z",
     "iopub.status.idle": "2021-06-27T07:23:41.725074Z",
     "shell.execute_reply": "2021-06-27T07:23:41.725942Z",
     "shell.execute_reply.started": "2021-06-27T07:16:00.223244Z"
    },
    "papermill": {
     "duration": 0.054245,
     "end_time": "2021-06-27T07:23:41.726091",
     "exception": false,
     "start_time": "2021-06-27T07:23:41.671846",
     "status": "completed"
    },
    "tags": []
   },
   "outputs": [],
   "source": [
    "def clean_training_text(s):\n",
    "    \"\"\"\n",
    "    similar to the default clean_text function but without lowercasing.\n",
    "    \"\"\"\n",
    "    s = re.sub('[^A-Za-z0-9\\)]+', ' ', str(s)).strip()\n",
    "    s = re.sub(' +', ' ', s)\n",
    "    #s = re.sub('\\(', '( ', s)\n",
    "    s = re.sub('\\)', ' pend', s)\n",
    "    return s\n",
    "\n",
    "def shorten_sentences(sentences):\n",
    "    short_sentences = []\n",
    "    for sentence in sentences:\n",
    "        words = sentence.split()\n",
    "        if len(words) > MAX_LENGTH:\n",
    "            for p in range(0, len(words), MAX_LENGTH - OVERLAP):\n",
    "                short_sentences.append(' '.join(words[p:p+MAX_LENGTH]))\n",
    "        else:\n",
    "            short_sentences.append(sentence)\n",
    "    return short_sentences\n",
    "\n",
    "represent_data_tokens = {'data','dataset','database'}\n",
    "connection_tokens = {'s', 'of', 'and', 'in', 'on', 'for','the','from','to','with'}\n",
    "def find_mask_candidates2(sentence):\n",
    "    \"\"\"\n",
    "    Extract masking candidates for Masked Dataset Modeling from a given $sentence.\n",
    "    A candidate should be a continuous sequence of at least 2 words, \n",
    "    each of these words either has the first letter in uppercase or is one of\n",
    "    the connection words ($connection_tokens). Furthermore, the connection \n",
    "    tokens are not allowed to appear at the beginning and the end of the\n",
    "    sequence.\n",
    "    \"\"\"\n",
    "    def candidate_qualified(words):\n",
    "        while len(words) and words[0].lower() in connection_tokens:\n",
    "            words = words[1:]\n",
    "        while len(words) and words[-1].lower() in connection_tokens:\n",
    "            words = words[:-1]\n",
    "        \n",
    "        return len(words) >= 2\n",
    "    \n",
    "    candidates = []\n",
    "    \n",
    "    phrase_start, phrase_end = -1, -1\n",
    "    for id in range(1, len(sentence)):\n",
    "        word = sentence[id]\n",
    "        if word[0].isupper() or word in represent_data_tokens:\n",
    "            if phrase_start == -1:\n",
    "                phrase_start = phrase_end = id\n",
    "            else:\n",
    "                phrase_end = id\n",
    "        elif word in connection_tokens :\n",
    "            if phrase_start != -1:\n",
    "                continue\n",
    "        else:\n",
    "            if phrase_start != -1:\n",
    "                if candidate_qualified(sentence[phrase_start:phrase_end+1]):\n",
    "                    candidates.append((phrase_start, phrase_end))\n",
    "                phrase_start = phrase_end = -1\n",
    "    \n",
    "    if phrase_start != -1:\n",
    "        if candidate_qualified(sentence[phrase_start:phrase_end+1]):\n",
    "            candidates.append((phrase_start, phrase_end))\n",
    "    \n",
    "    return candidates"
   ]
  },
  {
   "cell_type": "code",
   "execution_count": 21,
   "id": "buried-dividend",
   "metadata": {
    "execution": {
     "iopub.execute_input": "2021-06-27T07:23:41.845750Z",
     "iopub.status.busy": "2021-06-27T07:23:41.825156Z",
     "iopub.status.idle": "2021-06-27T07:23:41.891224Z",
     "shell.execute_reply": "2021-06-27T07:23:41.890842Z",
     "shell.execute_reply.started": "2021-06-27T07:16:00.239573Z"
    },
    "papermill": {
     "duration": 0.127138,
     "end_time": "2021-06-27T07:23:41.891337",
     "exception": false,
     "start_time": "2021-06-27T07:23:41.764199",
     "status": "completed"
    },
    "tags": []
   },
   "outputs": [
    {
     "name": "stdout",
     "output_type": "stream",
     "text": [
      "total number of sentences: 911\n"
     ]
    }
   ],
   "source": [
    "test_rows = [] # test data in NER format\n",
    "paper_length = [] # store the number of sentences each paper has\n",
    "\n",
    "for paper_id in sample_submission['Id']:\n",
    "    # load paper\n",
    "    paper = papers[paper_id]\n",
    "    \n",
    "    # extract sentences\n",
    "    #sentences = [clean_training_text(sentence) for section in paper \n",
    "    #             for sentence in section['text'].split('.')\n",
    "    #            ]\n",
    "    sentences = set([clean_paper_sentence(sentence) for section in paper \n",
    "                    for sentence in section['text'].split('.')\n",
    "                    ])\n",
    "    sentences = shorten_sentences(sentences) # make sentences short\n",
    "    sentences = [sentence for sentence in sentences if len(sentence) > 10] # only accept sentences with length > 10 chars\n",
    "    #print(\"###############\")\n",
    "    #print(\"before\",len(sentences))\n",
    "    #print(sentences[10])\n",
    "    #print(\"###############\")\n",
    "    #print(sentences[10].split())\n",
    "    sentences = [sentence for sentence in sentences if any(word in sentence.lower() for word in ['data','dataset', 'study','survey','reserch']) or find_mask_candidates2(sentence.split()) != [] ]\n",
    "    #print(\"after\",len(sentences))\n",
    "    #print(\"###############\")\n",
    "    # collect all sentences in json\n",
    "    for sentence in sentences:\n",
    "        sentence_words = sentence.split()\n",
    "        dummy_tags = ['O']*len(sentence_words)\n",
    "        test_rows.append({'tokens' : sentence_words, 'tags' : dummy_tags})\n",
    "    \n",
    "    # track which sentence belongs to which data point\n",
    "    paper_length.append(len(sentences))\n",
    "    \n",
    "print(f'total number of sentences: {len(test_rows)}')"
   ]
  },
  {
   "cell_type": "code",
   "execution_count": 22,
   "id": "parental-container",
   "metadata": {
    "execution": {
     "iopub.execute_input": "2021-06-27T07:23:41.972971Z",
     "iopub.status.busy": "2021-06-27T07:23:41.972416Z",
     "iopub.status.idle": "2021-06-27T07:23:41.976119Z",
     "shell.execute_reply": "2021-06-27T07:23:41.975698Z",
     "shell.execute_reply.started": "2021-06-27T07:16:00.398547Z"
    },
    "papermill": {
     "duration": 0.045921,
     "end_time": "2021-06-27T07:23:41.976217",
     "exception": false,
     "start_time": "2021-06-27T07:23:41.930296",
     "status": "completed"
    },
    "tags": []
   },
   "outputs": [],
   "source": [
    "os.environ[\"MODEL_PATH\"] = f\"{PRETRAINED_PATH}\"\n",
    "os.environ[\"TRAIN_FILE\"] = f\"{TRAIN_PATH}\"\n",
    "os.environ[\"VALIDATION_FILE\"] = f\"{VAL_PATH}\"\n",
    "os.environ[\"TEST_FILE\"] = f\"{TEST_INPUT_SAVE_PATH}/{TEST_NER_DATA_FILE}\"\n",
    "os.environ[\"OUTPUT_DIR\"] = f\"{PREDICTION_SAVE_PATH}\""
   ]
  },
  {
   "cell_type": "code",
   "execution_count": 23,
   "id": "portuguese-factor",
   "metadata": {
    "execution": {
     "iopub.execute_input": "2021-06-27T07:23:42.058499Z",
     "iopub.status.busy": "2021-06-27T07:23:42.057990Z",
     "iopub.status.idle": "2021-06-27T07:23:42.745207Z",
     "shell.execute_reply": "2021-06-27T07:23:42.744456Z",
     "shell.execute_reply.started": "2021-06-27T07:16:00.405564Z"
    },
    "papermill": {
     "duration": 0.729676,
     "end_time": "2021-06-27T07:23:42.745336",
     "exception": false,
     "start_time": "2021-06-27T07:23:42.015660",
     "status": "completed"
    },
    "tags": []
   },
   "outputs": [],
   "source": [
    "# copy my_seqeval.py to the working directory because the input directory is non-writable\n",
    "!cp /kaggle/input/coleridge-packages/my_seqeval.py ./\n",
    "\n",
    "# make necessart directories and files\n",
    "os.makedirs(TEST_INPUT_SAVE_PATH, exist_ok=True)"
   ]
  },
  {
   "cell_type": "code",
   "execution_count": 24,
   "id": "difficult-indonesian",
   "metadata": {
    "execution": {
     "iopub.execute_input": "2021-06-27T07:23:42.828151Z",
     "iopub.status.busy": "2021-06-27T07:23:42.827645Z",
     "iopub.status.idle": "2021-06-27T07:23:42.831244Z",
     "shell.execute_reply": "2021-06-27T07:23:42.830840Z",
     "shell.execute_reply.started": "2021-06-27T07:16:01.087309Z"
    },
    "papermill": {
     "duration": 0.046702,
     "end_time": "2021-06-27T07:23:42.831357",
     "exception": false,
     "start_time": "2021-06-27T07:23:42.784655",
     "status": "completed"
    },
    "tags": []
   },
   "outputs": [],
   "source": [
    "def bert_predict():\n",
    "    !python ../input/kaggle-ner-utils/kaggle_run_ner.py \\\n",
    "    --model_name_or_path \"$MODEL_PATH\" \\\n",
    "    --train_file \"$TRAIN_FILE\" \\\n",
    "    --validation_file \"$VALIDATION_FILE\" \\\n",
    "    --test_file \"$TEST_FILE\" \\\n",
    "    --output_dir \"$OUTPUT_DIR\" \\\n",
    "    --report_to 'none' \\\n",
    "    --seed 123 \\\n",
    "    --do_predict"
   ]
  },
  {
   "cell_type": "code",
   "execution_count": 25,
   "id": "utility-validity",
   "metadata": {
    "execution": {
     "iopub.execute_input": "2021-06-27T07:23:42.937904Z",
     "iopub.status.busy": "2021-06-27T07:23:42.916947Z",
     "iopub.status.idle": "2021-06-27T07:25:01.654445Z",
     "shell.execute_reply": "2021-06-27T07:25:01.653091Z",
     "shell.execute_reply.started": "2021-06-27T07:16:01.093925Z"
    },
    "papermill": {
     "duration": 78.784415,
     "end_time": "2021-06-27T07:25:01.654592",
     "exception": false,
     "start_time": "2021-06-27T07:23:42.870177",
     "status": "completed"
    },
    "tags": []
   },
   "outputs": [
    {
     "name": "stdout",
     "output_type": "stream",
     "text": [
      "rm: cannot remove './pred': No such file or directory\r\n",
      "2021-06-27 07:23:46.235167: I tensorflow/stream_executor/platform/default/dso_loader.cc:49] Successfully opened dynamic library libcudart.so.10.2\r\n",
      "Downloading and preparing dataset json/default (download: Unknown size, generated: Unknown size, post-processed: Unknown size, total: Unknown size) to /root/.cache/huggingface/datasets/json/default-2f6241b79c8787e5/0.0.0/83d5b3a2f62630efc6b5315f00f20209b4ad91a00ac586597caee3a4da0bef02...\r\n",
      "Dataset json downloaded and prepared to /root/.cache/huggingface/datasets/json/default-2f6241b79c8787e5/0.0.0/83d5b3a2f62630efc6b5315f00f20209b4ad91a00ac586597caee3a4da0bef02. Subsequent calls will reuse this data.\r\n",
      "[INFO|configuration_utils.py:470] 2021-06-27 07:24:42,210 >> loading configuration file ../input/pytorch-bert-for-named-entity-recognition-v2/output/config.json\r\n",
      "[INFO|configuration_utils.py:508] 2021-06-27 07:24:42,210 >> Model config BertConfig {\r\n",
      "  \"_name_or_path\": \"bert-base-cased\",\r\n",
      "  \"architectures\": [\r\n",
      "    \"BertForTokenClassification\"\r\n",
      "  ],\r\n",
      "  \"attention_probs_dropout_prob\": 0.1,\r\n",
      "  \"finetuning_task\": \"ner\",\r\n",
      "  \"gradient_checkpointing\": false,\r\n",
      "  \"hidden_act\": \"gelu\",\r\n",
      "  \"hidden_dropout_prob\": 0.1,\r\n",
      "  \"hidden_size\": 768,\r\n",
      "  \"id2label\": {\r\n",
      "    \"0\": \"LABEL_0\",\r\n",
      "    \"1\": \"LABEL_1\",\r\n",
      "    \"2\": \"LABEL_2\"\r\n",
      "  },\r\n",
      "  \"initializer_range\": 0.02,\r\n",
      "  \"intermediate_size\": 3072,\r\n",
      "  \"label2id\": {\r\n",
      "    \"LABEL_0\": 0,\r\n",
      "    \"LABEL_1\": 1,\r\n",
      "    \"LABEL_2\": 2\r\n",
      "  },\r\n",
      "  \"layer_norm_eps\": 1e-12,\r\n",
      "  \"max_position_embeddings\": 512,\r\n",
      "  \"model_type\": \"bert\",\r\n",
      "  \"num_attention_heads\": 12,\r\n",
      "  \"num_hidden_layers\": 12,\r\n",
      "  \"pad_token_id\": 0,\r\n",
      "  \"position_embedding_type\": \"absolute\",\r\n",
      "  \"transformers_version\": \"4.5.0.dev0\",\r\n",
      "  \"type_vocab_size\": 2,\r\n",
      "  \"use_cache\": true,\r\n",
      "  \"vocab_size\": 28996\r\n",
      "}\r\n",
      "\r\n",
      "[INFO|configuration_utils.py:470] 2021-06-27 07:24:42,211 >> loading configuration file ../input/pytorch-bert-for-named-entity-recognition-v2/output/config.json\r\n",
      "[INFO|configuration_utils.py:508] 2021-06-27 07:24:42,212 >> Model config BertConfig {\r\n",
      "  \"_name_or_path\": \"bert-base-cased\",\r\n",
      "  \"architectures\": [\r\n",
      "    \"BertForTokenClassification\"\r\n",
      "  ],\r\n",
      "  \"attention_probs_dropout_prob\": 0.1,\r\n",
      "  \"finetuning_task\": \"ner\",\r\n",
      "  \"gradient_checkpointing\": false,\r\n",
      "  \"hidden_act\": \"gelu\",\r\n",
      "  \"hidden_dropout_prob\": 0.1,\r\n",
      "  \"hidden_size\": 768,\r\n",
      "  \"id2label\": {\r\n",
      "    \"0\": \"LABEL_0\",\r\n",
      "    \"1\": \"LABEL_1\",\r\n",
      "    \"2\": \"LABEL_2\"\r\n",
      "  },\r\n",
      "  \"initializer_range\": 0.02,\r\n",
      "  \"intermediate_size\": 3072,\r\n",
      "  \"label2id\": {\r\n",
      "    \"LABEL_0\": 0,\r\n",
      "    \"LABEL_1\": 1,\r\n",
      "    \"LABEL_2\": 2\r\n",
      "  },\r\n",
      "  \"layer_norm_eps\": 1e-12,\r\n",
      "  \"max_position_embeddings\": 512,\r\n",
      "  \"model_type\": \"bert\",\r\n",
      "  \"num_attention_heads\": 12,\r\n",
      "  \"num_hidden_layers\": 12,\r\n",
      "  \"pad_token_id\": 0,\r\n",
      "  \"position_embedding_type\": \"absolute\",\r\n",
      "  \"transformers_version\": \"4.5.0.dev0\",\r\n",
      "  \"type_vocab_size\": 2,\r\n",
      "  \"use_cache\": true,\r\n",
      "  \"vocab_size\": 28996\r\n",
      "}\r\n",
      "\r\n",
      "[INFO|tokenization_utils_base.py:1637] 2021-06-27 07:24:42,214 >> Didn't find file ../input/pytorch-bert-for-named-entity-recognition-v2/output/tokenizer.json. We won't load it.\r\n",
      "[INFO|tokenization_utils_base.py:1637] 2021-06-27 07:24:42,214 >> Didn't find file ../input/pytorch-bert-for-named-entity-recognition-v2/output/added_tokens.json. We won't load it.\r\n",
      "[INFO|tokenization_utils_base.py:1700] 2021-06-27 07:24:42,219 >> loading file ../input/pytorch-bert-for-named-entity-recognition-v2/output/vocab.txt\r\n",
      "[INFO|tokenization_utils_base.py:1700] 2021-06-27 07:24:42,219 >> loading file None\r\n",
      "[INFO|tokenization_utils_base.py:1700] 2021-06-27 07:24:42,219 >> loading file None\r\n",
      "[INFO|tokenization_utils_base.py:1700] 2021-06-27 07:24:42,219 >> loading file ../input/pytorch-bert-for-named-entity-recognition-v2/output/special_tokens_map.json\r\n",
      "[INFO|tokenization_utils_base.py:1700] 2021-06-27 07:24:42,219 >> loading file ../input/pytorch-bert-for-named-entity-recognition-v2/output/tokenizer_config.json\r\n",
      "[INFO|modeling_utils.py:1049] 2021-06-27 07:24:42,286 >> loading weights file ../input/pytorch-bert-for-named-entity-recognition-v2/output/pytorch_model.bin\r\n",
      "[INFO|modeling_utils.py:1167] 2021-06-27 07:24:51,146 >> All model checkpoint weights were used when initializing BertForTokenClassification.\r\n",
      "\r\n",
      "[INFO|modeling_utils.py:1176] 2021-06-27 07:24:51,146 >> All the weights of BertForTokenClassification were initialized from the model checkpoint at ../input/pytorch-bert-for-named-entity-recognition-v2/output/.\r\n",
      "If your task is similar to the task the model of the checkpoint was trained on, you can already use BertForTokenClassification for predictions without further training.\r\n",
      "100%|█████████████████████████████████████████████| 1/1 [00:00<00:00,  4.06ba/s]\r\n",
      "[INFO|trainer.py:485] 2021-06-27 07:24:55,283 >> The following columns in the test set  don't have a corresponding argument in `BertForTokenClassification.forward` and have been ignored: tokens, tags.\r\n",
      "[INFO|trainer.py:1817] 2021-06-27 07:24:55,284 >> ***** Running Prediction *****\r\n",
      "[INFO|trainer.py:1818] 2021-06-27 07:24:55,284 >>   Num examples = 911\r\n",
      "[INFO|trainer.py:1819] 2021-06-27 07:24:55,285 >>   Batch size = 8\r\n",
      "100%|█████████████████████████████████████████| 114/114 [00:04<00:00, 28.68it/s]/opt/conda/lib/python3.7/site-packages/seqeval/metrics/v1.py:57: UndefinedMetricWarning: Recall and F-score are ill-defined and being set to 0.0 due to no true samples. Use `zero_division` parameter to control this behavior.\r\n",
      "  _warn_prf(average, modifier, msg_start, len(result))\r\n",
      "[INFO|trainer_pt_utils.py:735] 2021-06-27 07:25:00,607 >> ***** test metrics *****\r\n",
      "[INFO|trainer_pt_utils.py:740] 2021-06-27 07:25:00,608 >>   init_mem_cpu_alloc_delta  =     1459MB\r\n",
      "[INFO|trainer_pt_utils.py:740] 2021-06-27 07:25:00,608 >>   init_mem_cpu_peaked_delta =      300MB\r\n",
      "[INFO|trainer_pt_utils.py:740] 2021-06-27 07:25:00,608 >>   init_mem_gpu_alloc_delta  =      411MB\r\n",
      "[INFO|trainer_pt_utils.py:740] 2021-06-27 07:25:00,608 >>   init_mem_gpu_peaked_delta =        0MB\r\n",
      "[INFO|trainer_pt_utils.py:740] 2021-06-27 07:25:00,608 >>   test_accuracy             =     0.9981\r\n",
      "[INFO|trainer_pt_utils.py:740] 2021-06-27 07:25:00,608 >>   test_f1                   =        0.0\r\n",
      "[INFO|trainer_pt_utils.py:740] 2021-06-27 07:25:00,608 >>   test_loss                 =      0.009\r\n",
      "[INFO|trainer_pt_utils.py:740] 2021-06-27 07:25:00,608 >>   test_mem_cpu_alloc_delta  =       79MB\r\n",
      "[INFO|trainer_pt_utils.py:740] 2021-06-27 07:25:00,608 >>   test_mem_cpu_peaked_delta =        0MB\r\n",
      "[INFO|trainer_pt_utils.py:740] 2021-06-27 07:25:00,608 >>   test_mem_gpu_alloc_delta  =        0MB\r\n",
      "[INFO|trainer_pt_utils.py:740] 2021-06-27 07:25:00,608 >>   test_mem_gpu_peaked_delta =       23MB\r\n",
      "[INFO|trainer_pt_utils.py:740] 2021-06-27 07:25:00,608 >>   test_precision            =        0.0\r\n",
      "[INFO|trainer_pt_utils.py:740] 2021-06-27 07:25:00,608 >>   test_recall               =        0.0\r\n",
      "[INFO|trainer_pt_utils.py:740] 2021-06-27 07:25:00,608 >>   test_runtime              = 0:00:05.15\r\n",
      "[INFO|trainer_pt_utils.py:740] 2021-06-27 07:25:00,608 >>   test_samples_per_second   =    176.766\r\n",
      "100%|█████████████████████████████████████████| 114/114 [00:04<00:00, 22.80it/s]\r\n"
     ]
    }
   ],
   "source": [
    "bert_outputs = []\n",
    "for batch_begin in range(0, len(test_rows), PREDICT_BATCH):\n",
    "    # write data rows to input file\n",
    "    with open(f'{TEST_INPUT_SAVE_PATH}/{TEST_NER_DATA_FILE}', 'w') as f:\n",
    "        for row in test_rows[batch_begin:batch_begin+PREDICT_BATCH]:\n",
    "            json.dump(row, f)\n",
    "            f.write('\\n')\n",
    "    \n",
    "    # remove output dir\n",
    "    !rm -r \"$OUTPUT_DIR\"\n",
    "    # do predict\n",
    "    bert_predict()\n",
    "    \n",
    "    # read predictions\n",
    "    with open(f'{PREDICTION_SAVE_PATH}/{PREDICTION_FILE}') as f:\n",
    "        this_preds = f.read().split('\\n')[:-1]\n",
    "        bert_outputs += [pred.split() for pred in this_preds]"
   ]
  },
  {
   "cell_type": "code",
   "execution_count": 26,
   "id": "peaceful-natural",
   "metadata": {
    "execution": {
     "iopub.execute_input": "2021-06-27T07:25:01.768555Z",
     "iopub.status.busy": "2021-06-27T07:25:01.766799Z",
     "iopub.status.idle": "2021-06-27T07:25:01.769125Z",
     "shell.execute_reply": "2021-06-27T07:25:01.769520Z",
     "shell.execute_reply.started": "2021-06-27T07:17:18.715158Z"
    },
    "papermill": {
     "duration": 0.06051,
     "end_time": "2021-06-27T07:25:01.769648",
     "exception": false,
     "start_time": "2021-06-27T07:25:01.709138",
     "status": "completed"
    },
    "tags": []
   },
   "outputs": [],
   "source": [
    "# get test sentences\n",
    "test_sentences = [row['tokens'] for row in test_rows]\n",
    "\n",
    "del test_rows"
   ]
  },
  {
   "cell_type": "code",
   "execution_count": 27,
   "id": "timely-retrieval",
   "metadata": {
    "execution": {
     "iopub.execute_input": "2021-06-27T07:25:01.887397Z",
     "iopub.status.busy": "2021-06-27T07:25:01.886820Z",
     "iopub.status.idle": "2021-06-27T07:25:01.889979Z",
     "shell.execute_reply": "2021-06-27T07:25:01.889567Z",
     "shell.execute_reply.started": "2021-06-27T07:17:18.722131Z"
    },
    "papermill": {
     "duration": 0.067827,
     "end_time": "2021-06-27T07:25:01.890080",
     "exception": false,
     "start_time": "2021-06-27T07:25:01.822253",
     "status": "completed"
    },
    "tags": []
   },
   "outputs": [],
   "source": [
    "bert_dataset_labels = [] # store all dataset labels for each publication\n",
    "\n",
    "for length in paper_length:\n",
    "    labels = set()\n",
    "    for sentence, pred in zip(test_sentences[:length], bert_outputs[:length]):\n",
    "        curr_phrase = ''\n",
    "        for word, tag in zip(sentence, pred):\n",
    "            if tag == 'B': # start a new phrase\n",
    "                if curr_phrase:\n",
    "                    labels.add(curr_phrase)\n",
    "                    curr_phrase = ''\n",
    "                curr_phrase = word\n",
    "            elif tag == 'I' and curr_phrase: # continue the phrase\n",
    "                curr_phrase += ' ' + word\n",
    "            else: # end last phrase (if any)\n",
    "                if curr_phrase:\n",
    "                    labels.add(curr_phrase)\n",
    "                    curr_phrase = ''\n",
    "        # check if the label is the suffix of the sentence\n",
    "        if curr_phrase:\n",
    "            labels.add(curr_phrase)\n",
    "            curr_phrase = ''\n",
    "    \n",
    "    # record dataset labels for this publication\n",
    "    bert_dataset_labels.append(labels)\n",
    "    \n",
    "    del test_sentences[:length], bert_outputs[:length]"
   ]
  },
  {
   "cell_type": "code",
   "execution_count": 28,
   "id": "vanilla-automation",
   "metadata": {
    "execution": {
     "iopub.execute_input": "2021-06-27T07:25:01.998813Z",
     "iopub.status.busy": "2021-06-27T07:25:01.998270Z",
     "iopub.status.idle": "2021-06-27T07:25:02.003886Z",
     "shell.execute_reply": "2021-06-27T07:25:02.003456Z",
     "shell.execute_reply.started": "2021-06-27T07:17:18.739279Z"
    },
    "papermill": {
     "duration": 0.062782,
     "end_time": "2021-06-27T07:25:02.003990",
     "exception": false,
     "start_time": "2021-06-27T07:25:01.941208",
     "status": "completed"
    },
    "tags": []
   },
   "outputs": [
    {
     "data": {
      "text/plain": [
       "[{'Alzheimer s Disease Neuroimaging Initiative ADNI'},\n",
       " {'Trends in International Mathematics and Science Study'},\n",
       " {'SLOSH model'},\n",
       " {'Rural Urban Continuum Codes'}]"
      ]
     },
     "execution_count": 28,
     "metadata": {},
     "output_type": "execute_result"
    }
   ],
   "source": [
    "bert_dataset_labels[:5]"
   ]
  },
  {
   "cell_type": "code",
   "execution_count": 29,
   "id": "ideal-reliance",
   "metadata": {
    "execution": {
     "iopub.execute_input": "2021-06-27T07:25:02.116141Z",
     "iopub.status.busy": "2021-06-27T07:25:02.115016Z",
     "iopub.status.idle": "2021-06-27T07:25:02.117776Z",
     "shell.execute_reply": "2021-06-27T07:25:02.117366Z",
     "shell.execute_reply.started": "2021-06-27T07:17:18.755000Z"
    },
    "papermill": {
     "duration": 0.061224,
     "end_time": "2021-06-27T07:25:02.117881",
     "exception": false,
     "start_time": "2021-06-27T07:25:02.056657",
     "status": "completed"
    },
    "tags": []
   },
   "outputs": [],
   "source": [
    "def jaccard_similarity(s1, s2):\n",
    "    l1 = s1.split(\" \")\n",
    "    l2 = s2.split(\" \")    \n",
    "    intersection = len(list(set(l1).intersection(l2)))\n",
    "    union = (len(l1) + len(l2)) - intersection\n",
    "    return float(intersection) / union\n",
    "\n",
    "pred_ner_labels = []\n",
    "\n",
    "for labels in bert_dataset_labels:\n",
    "    filtered = []\n",
    "    \n",
    "    for label in sorted(labels, key=len):\n",
    "        label = clean_text(label)\n",
    "        if len(filtered) == 0 or all(jaccard_similarity(label, got_label) < 0.75 for got_label in filtered):\n",
    "            filtered.append(label)\n",
    "    \n",
    "    pred_ner_labels.append('|'.join(filtered))"
   ]
  },
  {
   "cell_type": "code",
   "execution_count": 30,
   "id": "hairy-drama",
   "metadata": {
    "execution": {
     "iopub.execute_input": "2021-06-27T07:25:02.225765Z",
     "iopub.status.busy": "2021-06-27T07:25:02.225248Z",
     "iopub.status.idle": "2021-06-27T07:25:02.230796Z",
     "shell.execute_reply": "2021-06-27T07:25:02.230340Z",
     "shell.execute_reply.started": "2021-06-27T07:17:18.765109Z"
    },
    "papermill": {
     "duration": 0.060941,
     "end_time": "2021-06-27T07:25:02.230899",
     "exception": false,
     "start_time": "2021-06-27T07:25:02.169958",
     "status": "completed"
    },
    "tags": []
   },
   "outputs": [
    {
     "data": {
      "text/plain": [
       "['alzheimer s disease neuroimaging initiative adni',\n",
       " 'trends in international mathematics and science study',\n",
       " 'slosh model',\n",
       " 'rural urban continuum codes']"
      ]
     },
     "execution_count": 30,
     "metadata": {},
     "output_type": "execute_result"
    }
   ],
   "source": [
    "pred_ner_labels[:5]"
   ]
  },
  {
   "cell_type": "markdown",
   "id": "complimentary-knock",
   "metadata": {
    "papermill": {
     "duration": 0.052872,
     "end_time": "2021-06-27T07:25:02.335642",
     "exception": false,
     "start_time": "2021-06-27T07:25:02.282770",
     "status": "completed"
    },
    "tags": []
   },
   "source": [
    "# Baseline Model"
   ]
  },
  {
   "cell_type": "code",
   "execution_count": 31,
   "id": "maritime-negotiation",
   "metadata": {
    "execution": {
     "iopub.execute_input": "2021-06-27T07:25:02.449590Z",
     "iopub.status.busy": "2021-06-27T07:25:02.448944Z",
     "iopub.status.idle": "2021-06-27T07:25:02.451824Z",
     "shell.execute_reply": "2021-06-27T07:25:02.451410Z",
     "shell.execute_reply.started": "2021-06-27T07:17:18.775648Z"
    },
    "papermill": {
     "duration": 0.064276,
     "end_time": "2021-06-27T07:25:02.451929",
     "exception": false,
     "start_time": "2021-06-27T07:25:02.387653",
     "status": "completed"
    },
    "tags": []
   },
   "outputs": [],
   "source": [
    "def read_append_return(filename, train_files_path=train_files_path, output='text'):\n",
    "    \"\"\"\n",
    "    Function to read json file and then return the text data from them and append to the dataframe\n",
    "    \"\"\"\n",
    "    json_path = os.path.join(train_files_path, (filename+'.json'))\n",
    "    headings = []\n",
    "    contents = []\n",
    "    combined = []\n",
    "    with open(json_path, 'r') as f:\n",
    "        json_decode = json.load(f)\n",
    "        for data in json_decode:\n",
    "            headings.append(data.get('section_title'))\n",
    "            contents.append(data.get('text'))\n",
    "            combined.append(data.get('section_title'))\n",
    "            combined.append(data.get('text'))\n",
    "    \n",
    "    all_headings = ' '.join(headings)\n",
    "    all_contents = ' '.join(contents)\n",
    "    all_data = '. '.join(combined)\n",
    "    \n",
    "    if output == 'text':\n",
    "        return all_contents\n",
    "    elif output == 'head':\n",
    "        return all_headings\n",
    "    else:\n",
    "        return all_data\n",
    "    \n",
    "    \n",
    "def text_cleaning(text):\n",
    "    '''\n",
    "    Converts all text to lower case, Removes special charecters, emojis and multiple spaces\n",
    "    text - Sentence that needs to be cleaned\n",
    "    '''\n",
    "    text = ''.join([k for k in text if k not in string.punctuation])\n",
    "    text = re.sub('[^A-Za-z0-9]+', ' ', str(text).lower()).strip()\n",
    "    # text = re.sub(\"/'+/g\", ' ', text)\n",
    "    return text"
   ]
  },
  {
   "cell_type": "code",
   "execution_count": 32,
   "id": "interested-buying",
   "metadata": {
    "execution": {
     "iopub.execute_input": "2021-06-27T07:25:02.560760Z",
     "iopub.status.busy": "2021-06-27T07:25:02.560115Z",
     "iopub.status.idle": "2021-06-27T07:25:02.562989Z",
     "shell.execute_reply": "2021-06-27T07:25:02.562589Z",
     "shell.execute_reply.started": "2021-06-27T07:17:18.788026Z"
    },
    "papermill": {
     "duration": 0.059296,
     "end_time": "2021-06-27T07:25:02.563091",
     "exception": false,
     "start_time": "2021-06-27T07:25:02.503795",
     "status": "completed"
    },
    "tags": []
   },
   "outputs": [],
   "source": [
    "if BASELINE_HELPING or ALL_BLENDED:\n",
    "    tqdm.pandas()\n",
    "\n",
    "    train['text'] = train['Id'].progress_apply(read_append_return)\n",
    "\n",
    "    if not COMPUTE_CV:\n",
    "        sample_submission['text'] = sample_submission['Id'].progress_apply(partial(read_append_return, train_files_path=test_files_path))\n",
    "\n",
    "    train.head()"
   ]
  },
  {
   "cell_type": "code",
   "execution_count": 33,
   "id": "compressed-drunk",
   "metadata": {
    "execution": {
     "iopub.execute_input": "2021-06-27T07:25:02.672621Z",
     "iopub.status.busy": "2021-06-27T07:25:02.671912Z",
     "iopub.status.idle": "2021-06-27T07:25:02.674899Z",
     "shell.execute_reply": "2021-06-27T07:25:02.674493Z",
     "shell.execute_reply.started": "2021-06-27T07:17:18.801073Z"
    },
    "papermill": {
     "duration": 0.059505,
     "end_time": "2021-06-27T07:25:02.675002",
     "exception": false,
     "start_time": "2021-06-27T07:25:02.615497",
     "status": "completed"
    },
    "tags": []
   },
   "outputs": [],
   "source": [
    "if BASELINE_HELPING or ALL_BLENDED:\n",
    "    tqdm.pandas()\n",
    "    \n",
    "    train['text'] = train['text'].progress_apply(text_cleaning)"
   ]
  },
  {
   "cell_type": "code",
   "execution_count": 34,
   "id": "social-subject",
   "metadata": {
    "execution": {
     "iopub.execute_input": "2021-06-27T07:25:02.787099Z",
     "iopub.status.busy": "2021-06-27T07:25:02.786449Z",
     "iopub.status.idle": "2021-06-27T07:25:02.788774Z",
     "shell.execute_reply": "2021-06-27T07:25:02.789254Z",
     "shell.execute_reply.started": "2021-06-27T07:17:18.810008Z"
    },
    "papermill": {
     "duration": 0.061962,
     "end_time": "2021-06-27T07:25:02.789365",
     "exception": false,
     "start_time": "2021-06-27T07:25:02.727403",
     "status": "completed"
    },
    "tags": []
   },
   "outputs": [],
   "source": [
    "if BASELINE_HELPING or ALL_BLENDED:\n",
    "    temp_1 = [x.lower() for x in train['dataset_label'].unique()]\n",
    "    temp_2 = [x.lower() for x in train['dataset_title'].unique()]\n",
    "    temp_3 = [x.lower() for x in train['cleaned_label'].unique()]\n",
    "\n",
    "    existing_labels = set(temp_1 + temp_2 + temp_3)\n",
    "\n",
    "    print(f'len(temp_1) = {len(temp_1)}')\n",
    "    print(f'len(temp_2) = {len(temp_2)}')\n",
    "    print(f'len(temp_3) = {len(temp_3)}')\n",
    "    print(f'len(existing_labels) = {len(existing_labels)}')\n",
    "\n",
    "    id_list = []\n",
    "    lables_list = []\n",
    "    for index, row in tqdm(sample_submission.iterrows()):\n",
    "        sample_text = row['text']\n",
    "        row_id = row['Id']\n",
    "        temp_df = train[train['text'] == text_cleaning(sample_text)]\n",
    "        cleaned_labels = temp_df['cleaned_label'].to_list()\n",
    "\n",
    "        for known_label in existing_labels:\n",
    "            if known_label in sample_text.lower():\n",
    "                cleaned_labels.append(clean_text(known_label))\n",
    "\n",
    "        cleaned_labels = [clean_text(x) for x in cleaned_labels]\n",
    "        cleaned_labels = set(cleaned_labels)\n",
    "        lables_list.append('|'.join(cleaned_labels))\n",
    "        id_list.append(row_id)"
   ]
  },
  {
   "cell_type": "markdown",
   "id": "competitive-python",
   "metadata": {
    "papermill": {
     "duration": 0.051948,
     "end_time": "2021-06-27T07:25:02.893299",
     "exception": false,
     "start_time": "2021-06-27T07:25:02.841351",
     "status": "completed"
    },
    "tags": []
   },
   "source": [
    "## Aggregate final predictions and write submission file"
   ]
  },
  {
   "cell_type": "code",
   "execution_count": 35,
   "id": "operating-spray",
   "metadata": {
    "execution": {
     "iopub.execute_input": "2021-06-27T07:25:03.003327Z",
     "iopub.status.busy": "2021-06-27T07:25:03.002589Z",
     "iopub.status.idle": "2021-06-27T07:25:03.005757Z",
     "shell.execute_reply": "2021-06-27T07:25:03.006156Z",
     "shell.execute_reply.started": "2021-06-27T07:17:18.821100Z"
    },
    "papermill": {
     "duration": 0.060559,
     "end_time": "2021-06-27T07:25:03.006291",
     "exception": false,
     "start_time": "2021-06-27T07:25:02.945732",
     "status": "completed"
    },
    "tags": []
   },
   "outputs": [
    {
     "data": {
      "text/plain": [
       "['lothian birth cohort study lbc1936', '', '', '']"
      ]
     },
     "execution_count": 35,
     "metadata": {},
     "output_type": "execute_result"
    }
   ],
   "source": [
    "pred_mlm_labels[:5]"
   ]
  },
  {
   "cell_type": "code",
   "execution_count": 36,
   "id": "determined-panama",
   "metadata": {
    "execution": {
     "iopub.execute_input": "2021-06-27T07:25:03.123155Z",
     "iopub.status.busy": "2021-06-27T07:25:03.122507Z",
     "iopub.status.idle": "2021-06-27T07:25:03.125437Z",
     "shell.execute_reply": "2021-06-27T07:25:03.125023Z",
     "shell.execute_reply.started": "2021-06-27T07:17:18.835312Z"
    },
    "papermill": {
     "duration": 0.065659,
     "end_time": "2021-06-27T07:25:03.125547",
     "exception": false,
     "start_time": "2021-06-27T07:25:03.059888",
     "status": "completed"
    },
    "tags": []
   },
   "outputs": [],
   "source": [
    "final_predictions = []\n",
    "\n",
    "if ALL_BLENDED:\n",
    "    for literal_match, mlm_pred, lables_match in zip(literal_preds, pred_mlm_labels, lables_list):\n",
    "        temp = [literal_match, mlm_pred, lables_match]\n",
    "        temp = [pred for pred in temp if pred]\n",
    "        temp = ('|').join(temp)\n",
    "        final_predictions.append(temp)\n",
    "        \n",
    "elif BASELINE_HELPING:\n",
    "    for literal_match, mlm_pred, lables_match in zip(literal_preds, pred_mlm_labels, lables_list):\n",
    "        if literal_match:\n",
    "            final_predictions.append(literal_match)\n",
    "        elif lables_match:\n",
    "            final_predictions.append(lables_match)\n",
    "        else:\n",
    "            final_predictions.append(mlm_pred)\n",
    "\n",
    "elif MATCH_ONLY:\n",
    "    final_predictions = literal_preds\n",
    "\n",
    "elif MLM_ONLY:\n",
    "    final_predictions = pred_mlm_labels\n",
    "\n",
    "elif THEO_MERGE:\n",
    "    for i in range(len(literal_preds)):\n",
    "        pred_naive = literal_preds[i].split('|')\n",
    "        pred_model = pred_mlm_labels[i].split('|')\n",
    "        pred_model_kept = []\n",
    "        for pred_m in pred_model:\n",
    "            kept = True\n",
    "            for pred_n in pred_naive:\n",
    "                if pred_m in pred_n or pred_n in pred_m:\n",
    "                    kept = False\n",
    "            if kept:\n",
    "                pred_model_kept.append(pred_m)\n",
    "        final_predictions.append(\"|\".join(pred_naive + pred_model_kept))\n",
    "\n",
    "else:    \n",
    "    for literal_match, mlm_pred, ner_pred in zip(literal_preds, pred_mlm_labels, pred_ner_labels):\n",
    "        if literal_match:\n",
    "            final_predictions.append(literal_match)\n",
    "        elif ner_pred:\n",
    "            final_predictions.append(ner_pred)\n",
    "        elif mlm_pred:\n",
    "            final_predictions.append(mlm_pred)\n",
    "        else:\n",
    "            final_predictions.append('')\n",
    "\n",
    "sample_submission['PredictionString'] = final_predictions"
   ]
  },
  {
   "cell_type": "code",
   "execution_count": 37,
   "id": "stunning-singles",
   "metadata": {
    "execution": {
     "iopub.execute_input": "2021-06-27T07:25:03.236950Z",
     "iopub.status.busy": "2021-06-27T07:25:03.236198Z",
     "iopub.status.idle": "2021-06-27T07:25:03.248992Z",
     "shell.execute_reply": "2021-06-27T07:25:03.248596Z",
     "shell.execute_reply.started": "2021-06-27T07:17:18.849438Z"
    },
    "papermill": {
     "duration": 0.070796,
     "end_time": "2021-06-27T07:25:03.249100",
     "exception": false,
     "start_time": "2021-06-27T07:25:03.178304",
     "status": "completed"
    },
    "tags": []
   },
   "outputs": [
    {
     "data": {
      "text/html": [
       "<div>\n",
       "<style scoped>\n",
       "    .dataframe tbody tr th:only-of-type {\n",
       "        vertical-align: middle;\n",
       "    }\n",
       "\n",
       "    .dataframe tbody tr th {\n",
       "        vertical-align: top;\n",
       "    }\n",
       "\n",
       "    .dataframe thead th {\n",
       "        text-align: right;\n",
       "    }\n",
       "</style>\n",
       "<table border=\"1\" class=\"dataframe\">\n",
       "  <thead>\n",
       "    <tr style=\"text-align: right;\">\n",
       "      <th></th>\n",
       "      <th>Id</th>\n",
       "      <th>PredictionString</th>\n",
       "    </tr>\n",
       "  </thead>\n",
       "  <tbody>\n",
       "    <tr>\n",
       "      <th>0</th>\n",
       "      <td>2100032a-7c33-4bff-97ef-690822c43466</td>\n",
       "      <td>adni|alzheimer s disease neuroimaging initiati...</td>\n",
       "    </tr>\n",
       "    <tr>\n",
       "      <th>1</th>\n",
       "      <td>2f392438-e215-4169-bebf-21ac4ff253e1</td>\n",
       "      <td>common core of data|nces common core of data|t...</td>\n",
       "    </tr>\n",
       "    <tr>\n",
       "      <th>2</th>\n",
       "      <td>3f316b38-1a24-45a9-8d8c-4e05a42257c6</td>\n",
       "      <td>slosh model|noaa storm surge inundation|sea la...</td>\n",
       "    </tr>\n",
       "    <tr>\n",
       "      <th>3</th>\n",
       "      <td>8e6996b4-ca08-4c0b-bed2-aaf07a4c6a60</td>\n",
       "      <td>rural urban continuum codes</td>\n",
       "    </tr>\n",
       "  </tbody>\n",
       "</table>\n",
       "</div>"
      ],
      "text/plain": [
       "                                     Id  \\\n",
       "0  2100032a-7c33-4bff-97ef-690822c43466   \n",
       "1  2f392438-e215-4169-bebf-21ac4ff253e1   \n",
       "2  3f316b38-1a24-45a9-8d8c-4e05a42257c6   \n",
       "3  8e6996b4-ca08-4c0b-bed2-aaf07a4c6a60   \n",
       "\n",
       "                                    PredictionString  \n",
       "0  adni|alzheimer s disease neuroimaging initiati...  \n",
       "1  common core of data|nces common core of data|t...  \n",
       "2  slosh model|noaa storm surge inundation|sea la...  \n",
       "3                        rural urban continuum codes  "
      ]
     },
     "execution_count": 37,
     "metadata": {},
     "output_type": "execute_result"
    }
   ],
   "source": [
    "sample_submission['PredictionString'] = final_predictions\n",
    "sample_submission[['Id', 'PredictionString']].to_csv('submission.csv', index=False)\n",
    "\n",
    "sample_submission.head()"
   ]
  },
  {
   "cell_type": "markdown",
   "id": "alive-passage",
   "metadata": {
    "papermill": {
     "duration": 0.052712,
     "end_time": "2021-06-27T07:25:03.354680",
     "exception": false,
     "start_time": "2021-06-27T07:25:03.301968",
     "status": "completed"
    },
    "tags": []
   },
   "source": [
    "# Evaluation Metric"
   ]
  },
  {
   "cell_type": "code",
   "execution_count": 38,
   "id": "connected-providence",
   "metadata": {
    "execution": {
     "iopub.execute_input": "2021-06-27T07:25:03.469370Z",
     "iopub.status.busy": "2021-06-27T07:25:03.468712Z",
     "iopub.status.idle": "2021-06-27T07:25:03.471524Z",
     "shell.execute_reply": "2021-06-27T07:25:03.471088Z",
     "shell.execute_reply.started": "2021-06-27T07:17:18.874515Z"
    },
    "papermill": {
     "duration": 0.064355,
     "end_time": "2021-06-27T07:25:03.471627",
     "exception": false,
     "start_time": "2021-06-27T07:25:03.407272",
     "status": "completed"
    },
    "tags": []
   },
   "outputs": [],
   "source": [
    "# https://www.kaggle.com/c/coleridgeinitiative-show-us-the-data/discussion/230091\n",
    "def compute_fbeta(y_true: List[List[str]],\n",
    "                  y_pred: List[List[str]],\n",
    "                  beta: float = 0.5) -> float:\n",
    "    \"\"\"Compute the Jaccard-based micro FBeta score.\n",
    "\n",
    "    References\n",
    "    ----------\n",
    "    - https://www.kaggle.com/c/coleridgeinitiative-show-us-the-data/overview/evaluation\n",
    "    \"\"\"\n",
    "\n",
    "    def _jaccard_similarity(str1: str, str2: str) -> float:\n",
    "        a = set(str1.split()) \n",
    "        b = set(str2.split())\n",
    "        c = a.intersection(b)\n",
    "        return float(len(c)) / (len(a) + len(b) - len(c))\n",
    "\n",
    "    tp = 0  # true positive\n",
    "    fp = 0  # false positive\n",
    "    fn = 0  # false negative\n",
    "    for ground_truth_list, predicted_string_list in zip(y_true, y_pred):\n",
    "        predicted_string_list_sorted = sorted(predicted_string_list)\n",
    "        for ground_truth in sorted(ground_truth_list):            \n",
    "            if len(predicted_string_list_sorted) == 0:\n",
    "                fn += 1\n",
    "            else:\n",
    "                similarity_scores = [\n",
    "                    _jaccard_similarity(ground_truth, predicted_string)\n",
    "                    for predicted_string in predicted_string_list_sorted\n",
    "                ]\n",
    "                matched_idx = np.argmax(similarity_scores)\n",
    "                if similarity_scores[matched_idx] >= 0.5:\n",
    "                    predicted_string_list_sorted.pop(matched_idx)\n",
    "                    tp += 1\n",
    "                else:\n",
    "                    fn += 1\n",
    "        fp += len(predicted_string_list_sorted)\n",
    "\n",
    "    tp *= (1 + beta ** 2)\n",
    "    fn *= beta ** 2\n",
    "    fbeta_score = tp / (tp + fp + fn)\n",
    "    return fbeta_score"
   ]
  },
  {
   "cell_type": "code",
   "execution_count": 39,
   "id": "early-board",
   "metadata": {
    "execution": {
     "iopub.execute_input": "2021-06-27T07:25:03.587333Z",
     "iopub.status.busy": "2021-06-27T07:25:03.586493Z",
     "iopub.status.idle": "2021-06-27T07:25:03.591383Z",
     "shell.execute_reply": "2021-06-27T07:25:03.591961Z",
     "shell.execute_reply.started": "2021-06-27T07:17:18.885573Z"
    },
    "papermill": {
     "duration": 0.066084,
     "end_time": "2021-06-27T07:25:03.592126",
     "exception": false,
     "start_time": "2021-06-27T07:25:03.526042",
     "status": "completed"
    },
    "tags": []
   },
   "outputs": [
    {
     "name": "stdout",
     "output_type": "stream",
     "text": [
      "COMPUTE_CV = False\n",
      "EDA_DEMO = False\n",
      "ALL_BLENDED = False\n",
      "BASELINE_HELPING = False\n",
      "MATCH_ONLY = False\n",
      "MLM_ONLY = False\n",
      "KEN_MATCHING = True\n",
      "BS_CLEANING = False\n",
      "THEO_MERGE = False\n",
      "SEED = 42\n"
     ]
    }
   ],
   "source": [
    "if COMPUTE_CV:\n",
    "    COMPUTE_CV_SCORE = compute_fbeta(sample_submission['cleaned_label'].apply(lambda x: [x]),\\\n",
    "                  sample_submission['PredictionString'].apply(lambda x: x.split('|')))\n",
    "    print('COMPUTE_CV_SCORE =', COMPUTE_CV_SCORE)\n",
    "else:\n",
    "    print(f'COMPUTE_CV = {COMPUTE_CV}')\n",
    "    \n",
    "print(f'EDA_DEMO = {EDA_DEMO}')\n",
    "print(f'ALL_BLENDED = {ALL_BLENDED}')\n",
    "print(f'BASELINE_HELPING = {BASELINE_HELPING}')\n",
    "print(f'MATCH_ONLY = {MATCH_ONLY}')\n",
    "print(f'MLM_ONLY = {MLM_ONLY}')\n",
    "print(f'KEN_MATCHING = {KEN_MATCHING}')\n",
    "print(f'BS_CLEANING = {BS_CLEANING}')\n",
    "print(f'THEO_MERGE = {THEO_MERGE}')\n",
    "print(f'SEED = {SEED}')"
   ]
  }
 ],
 "metadata": {
  "kernelspec": {
   "display_name": "Python 3",
   "language": "python",
   "name": "python3"
  },
  "language_info": {
   "codemirror_mode": {
    "name": "ipython",
    "version": 3
   },
   "file_extension": ".py",
   "mimetype": "text/x-python",
   "name": "python",
   "nbconvert_exporter": "python",
   "pygments_lexer": "ipython3",
   "version": "3.7.9"
  },
  "papermill": {
   "default_parameters": {},
   "duration": 205.05796,
   "end_time": "2021-06-27T07:25:04.957182",
   "environment_variables": {},
   "exception": null,
   "input_path": "__notebook__.ipynb",
   "output_path": "__notebook__.ipynb",
   "parameters": {},
   "start_time": "2021-06-27T07:21:39.899222",
   "version": "2.3.2"
  },
  "widgets": {
   "application/vnd.jupyter.widget-state+json": {
    "state": {
     "04cf394ebc0c4d1ca57b12754888a2fa": {
      "model_module": "@jupyter-widgets/controls",
      "model_module_version": "1.5.0",
      "model_name": "HTMLModel",
      "state": {
       "_dom_classes": [],
       "_model_module": "@jupyter-widgets/controls",
       "_model_module_version": "1.5.0",
       "_model_name": "HTMLModel",
       "_view_count": null,
       "_view_module": "@jupyter-widgets/controls",
       "_view_module_version": "1.5.0",
       "_view_name": "HTMLView",
       "description": "",
       "description_tooltip": null,
       "layout": "IPY_MODEL_eab9661cfef24028945c86a68bda0423",
       "placeholder": "​",
       "style": "IPY_MODEL_37ea4d5ad5844cebbfc34f5e2375a189",
       "value": "&lt;tqdm.notebook.tqdm_notebook object at 0x7fb995c830d0&gt;"
      }
     },
     "0e3e5ca10fef4e0ebb7d50c3459467d3": {
      "model_module": "@jupyter-widgets/controls",
      "model_module_version": "1.5.0",
      "model_name": "FloatProgressModel",
      "state": {
       "_dom_classes": [],
       "_model_module": "@jupyter-widgets/controls",
       "_model_module_version": "1.5.0",
       "_model_name": "FloatProgressModel",
       "_view_count": null,
       "_view_module": "@jupyter-widgets/controls",
       "_view_module_version": "1.5.0",
       "_view_name": "ProgressView",
       "bar_style": "success",
       "description": "",
       "description_tooltip": null,
       "layout": "IPY_MODEL_b6245bad9f3c43e3a3b5f818527fbdf4",
       "max": 1.0,
       "min": 0.0,
       "orientation": "horizontal",
       "style": "IPY_MODEL_8885838c6daa4210be576ea9be57f9f7",
       "value": 1.0
      }
     },
     "150e2651f9f2473ba05e7b4583ea1601": {
      "model_module": "@jupyter-widgets/controls",
      "model_module_version": "1.5.0",
      "model_name": "FloatProgressModel",
      "state": {
       "_dom_classes": [],
       "_model_module": "@jupyter-widgets/controls",
       "_model_module_version": "1.5.0",
       "_model_name": "FloatProgressModel",
       "_view_count": null,
       "_view_module": "@jupyter-widgets/controls",
       "_view_module_version": "1.5.0",
       "_view_name": "ProgressView",
       "bar_style": "success",
       "description": "",
       "description_tooltip": null,
       "layout": "IPY_MODEL_3907b18b917b435a9618ebb8e5646706",
       "max": 4.0,
       "min": 0.0,
       "orientation": "horizontal",
       "style": "IPY_MODEL_bdae5224c8244c1eab5bc4e8d547a3b2",
       "value": 4.0
      }
     },
     "212b8bad99024244a033bc58827fc471": {
      "model_module": "@jupyter-widgets/controls",
      "model_module_version": "1.5.0",
      "model_name": "HTMLModel",
      "state": {
       "_dom_classes": [],
       "_model_module": "@jupyter-widgets/controls",
       "_model_module_version": "1.5.0",
       "_model_name": "HTMLModel",
       "_view_count": null,
       "_view_module": "@jupyter-widgets/controls",
       "_view_module_version": "1.5.0",
       "_view_name": "HTMLView",
       "description": "",
       "description_tooltip": null,
       "layout": "IPY_MODEL_a2bdf2b3770d4381a60605194d27ad58",
       "placeholder": "​",
       "style": "IPY_MODEL_a6dace9dfa6247bba3c66373233531ce",
       "value": "&lt;tqdm.notebook.tqdm_notebook object at 0x7fb995c83cd0&gt;"
      }
     },
     "32e706124bd84775b10097a505f2c79c": {
      "model_module": "@jupyter-widgets/controls",
      "model_module_version": "1.5.0",
      "model_name": "HBoxModel",
      "state": {
       "_dom_classes": [],
       "_model_module": "@jupyter-widgets/controls",
       "_model_module_version": "1.5.0",
       "_model_name": "HBoxModel",
       "_view_count": null,
       "_view_module": "@jupyter-widgets/controls",
       "_view_module_version": "1.5.0",
       "_view_name": "HBoxView",
       "box_style": "",
       "children": [
        "IPY_MODEL_9f165384b5e64f98982c3eb66ce9b36c",
        "IPY_MODEL_a919912e3fbc49c6b6e7817bca5d2f40"
       ],
       "layout": "IPY_MODEL_76a251aedb7a4d5bbb318c8ea0841d4a"
      }
     },
     "3713240782bb41879b1a19cbf0698f67": {
      "model_module": "@jupyter-widgets/base",
      "model_module_version": "1.2.0",
      "model_name": "LayoutModel",
      "state": {
       "_model_module": "@jupyter-widgets/base",
       "_model_module_version": "1.2.0",
       "_model_name": "LayoutModel",
       "_view_count": null,
       "_view_module": "@jupyter-widgets/base",
       "_view_module_version": "1.2.0",
       "_view_name": "LayoutView",
       "align_content": null,
       "align_items": null,
       "align_self": null,
       "border": null,
       "bottom": null,
       "display": null,
       "flex": null,
       "flex_flow": null,
       "grid_area": null,
       "grid_auto_columns": null,
       "grid_auto_flow": null,
       "grid_auto_rows": null,
       "grid_column": null,
       "grid_gap": null,
       "grid_row": null,
       "grid_template_areas": null,
       "grid_template_columns": null,
       "grid_template_rows": null,
       "height": null,
       "justify_content": null,
       "justify_items": null,
       "left": null,
       "margin": null,
       "max_height": null,
       "max_width": null,
       "min_height": null,
       "min_width": null,
       "object_fit": null,
       "object_position": null,
       "order": null,
       "overflow": null,
       "overflow_x": null,
       "overflow_y": null,
       "padding": null,
       "right": null,
       "top": null,
       "visibility": null,
       "width": null
      }
     },
     "37ea4d5ad5844cebbfc34f5e2375a189": {
      "model_module": "@jupyter-widgets/controls",
      "model_module_version": "1.5.0",
      "model_name": "DescriptionStyleModel",
      "state": {
       "_model_module": "@jupyter-widgets/controls",
       "_model_module_version": "1.5.0",
       "_model_name": "DescriptionStyleModel",
       "_view_count": null,
       "_view_module": "@jupyter-widgets/base",
       "_view_module_version": "1.2.0",
       "_view_name": "StyleView",
       "description_width": ""
      }
     },
     "3907b18b917b435a9618ebb8e5646706": {
      "model_module": "@jupyter-widgets/base",
      "model_module_version": "1.2.0",
      "model_name": "LayoutModel",
      "state": {
       "_model_module": "@jupyter-widgets/base",
       "_model_module_version": "1.2.0",
       "_model_name": "LayoutModel",
       "_view_count": null,
       "_view_module": "@jupyter-widgets/base",
       "_view_module_version": "1.2.0",
       "_view_name": "LayoutView",
       "align_content": null,
       "align_items": null,
       "align_self": null,
       "border": null,
       "bottom": null,
       "display": null,
       "flex": null,
       "flex_flow": null,
       "grid_area": null,
       "grid_auto_columns": null,
       "grid_auto_flow": null,
       "grid_auto_rows": null,
       "grid_column": null,
       "grid_gap": null,
       "grid_row": null,
       "grid_template_areas": null,
       "grid_template_columns": null,
       "grid_template_rows": null,
       "height": null,
       "justify_content": null,
       "justify_items": null,
       "left": null,
       "margin": null,
       "max_height": null,
       "max_width": null,
       "min_height": null,
       "min_width": null,
       "object_fit": null,
       "object_position": null,
       "order": null,
       "overflow": null,
       "overflow_x": null,
       "overflow_y": null,
       "padding": null,
       "right": null,
       "top": null,
       "visibility": null,
       "width": null
      }
     },
     "3cec431a803e4d8ea32f5a4123b2d517": {
      "model_module": "@jupyter-widgets/controls",
      "model_module_version": "1.5.0",
      "model_name": "DescriptionStyleModel",
      "state": {
       "_model_module": "@jupyter-widgets/controls",
       "_model_module_version": "1.5.0",
       "_model_name": "DescriptionStyleModel",
       "_view_count": null,
       "_view_module": "@jupyter-widgets/base",
       "_view_module_version": "1.2.0",
       "_view_name": "StyleView",
       "description_width": ""
      }
     },
     "51ecd3f1c9c741119ad712e9f4d19eea": {
      "model_module": "@jupyter-widgets/controls",
      "model_module_version": "1.5.0",
      "model_name": "HTMLModel",
      "state": {
       "_dom_classes": [],
       "_model_module": "@jupyter-widgets/controls",
       "_model_module_version": "1.5.0",
       "_model_name": "HTMLModel",
       "_view_count": null,
       "_view_module": "@jupyter-widgets/controls",
       "_view_module_version": "1.5.0",
       "_view_name": "HTMLView",
       "description": "",
       "description_tooltip": null,
       "layout": "IPY_MODEL_df4530d43c7349ca878e78ea0eab47b3",
       "placeholder": "​",
       "style": "IPY_MODEL_c20add33ff174b62bba59e75996b4531",
       "value": "&lt;tqdm.notebook.tqdm_notebook object at 0x7fb995db1850&gt;"
      }
     },
     "5deef339e50e4cae985bd3f18c911e7b": {
      "model_module": "@jupyter-widgets/controls",
      "model_module_version": "1.5.0",
      "model_name": "ProgressStyleModel",
      "state": {
       "_model_module": "@jupyter-widgets/controls",
       "_model_module_version": "1.5.0",
       "_model_name": "ProgressStyleModel",
       "_view_count": null,
       "_view_module": "@jupyter-widgets/base",
       "_view_module_version": "1.2.0",
       "_view_name": "StyleView",
       "bar_color": null,
       "description_width": "initial"
      }
     },
     "63e49bca13294fe28cc85b96ac275599": {
      "model_module": "@jupyter-widgets/controls",
      "model_module_version": "1.5.0",
      "model_name": "HBoxModel",
      "state": {
       "_dom_classes": [],
       "_model_module": "@jupyter-widgets/controls",
       "_model_module_version": "1.5.0",
       "_model_name": "HBoxModel",
       "_view_count": null,
       "_view_module": "@jupyter-widgets/controls",
       "_view_module_version": "1.5.0",
       "_view_name": "HBoxView",
       "box_style": "",
       "children": [
        "IPY_MODEL_0e3e5ca10fef4e0ebb7d50c3459467d3",
        "IPY_MODEL_51ecd3f1c9c741119ad712e9f4d19eea"
       ],
       "layout": "IPY_MODEL_a89ac9b73faa4b13bbc165cc4b9e47d0"
      }
     },
     "76a251aedb7a4d5bbb318c8ea0841d4a": {
      "model_module": "@jupyter-widgets/base",
      "model_module_version": "1.2.0",
      "model_name": "LayoutModel",
      "state": {
       "_model_module": "@jupyter-widgets/base",
       "_model_module_version": "1.2.0",
       "_model_name": "LayoutModel",
       "_view_count": null,
       "_view_module": "@jupyter-widgets/base",
       "_view_module_version": "1.2.0",
       "_view_name": "LayoutView",
       "align_content": null,
       "align_items": null,
       "align_self": null,
       "border": null,
       "bottom": null,
       "display": null,
       "flex": null,
       "flex_flow": null,
       "grid_area": null,
       "grid_auto_columns": null,
       "grid_auto_flow": null,
       "grid_auto_rows": null,
       "grid_column": null,
       "grid_gap": null,
       "grid_row": null,
       "grid_template_areas": null,
       "grid_template_columns": null,
       "grid_template_rows": null,
       "height": null,
       "justify_content": null,
       "justify_items": null,
       "left": null,
       "margin": null,
       "max_height": null,
       "max_width": null,
       "min_height": null,
       "min_width": null,
       "object_fit": null,
       "object_position": null,
       "order": null,
       "overflow": null,
       "overflow_x": null,
       "overflow_y": null,
       "padding": null,
       "right": null,
       "top": null,
       "visibility": null,
       "width": null
      }
     },
     "7df371c9bf41442cb8a9ef37857d221d": {
      "model_module": "@jupyter-widgets/base",
      "model_module_version": "1.2.0",
      "model_name": "LayoutModel",
      "state": {
       "_model_module": "@jupyter-widgets/base",
       "_model_module_version": "1.2.0",
       "_model_name": "LayoutModel",
       "_view_count": null,
       "_view_module": "@jupyter-widgets/base",
       "_view_module_version": "1.2.0",
       "_view_name": "LayoutView",
       "align_content": null,
       "align_items": null,
       "align_self": null,
       "border": null,
       "bottom": null,
       "display": null,
       "flex": null,
       "flex_flow": null,
       "grid_area": null,
       "grid_auto_columns": null,
       "grid_auto_flow": null,
       "grid_auto_rows": null,
       "grid_column": null,
       "grid_gap": null,
       "grid_row": null,
       "grid_template_areas": null,
       "grid_template_columns": null,
       "grid_template_rows": null,
       "height": null,
       "justify_content": null,
       "justify_items": null,
       "left": null,
       "margin": null,
       "max_height": null,
       "max_width": null,
       "min_height": null,
       "min_width": null,
       "object_fit": null,
       "object_position": null,
       "order": null,
       "overflow": null,
       "overflow_x": null,
       "overflow_y": null,
       "padding": null,
       "right": null,
       "top": null,
       "visibility": null,
       "width": null
      }
     },
     "85896b4756294bffa008ad67a968543b": {
      "model_module": "@jupyter-widgets/controls",
      "model_module_version": "1.5.0",
      "model_name": "HBoxModel",
      "state": {
       "_dom_classes": [],
       "_model_module": "@jupyter-widgets/controls",
       "_model_module_version": "1.5.0",
       "_model_name": "HBoxModel",
       "_view_count": null,
       "_view_module": "@jupyter-widgets/controls",
       "_view_module_version": "1.5.0",
       "_view_name": "HBoxView",
       "box_style": "",
       "children": [
        "IPY_MODEL_150e2651f9f2473ba05e7b4583ea1601",
        "IPY_MODEL_212b8bad99024244a033bc58827fc471"
       ],
       "layout": "IPY_MODEL_bbc7dd71dc544e6c97f8e9274dcc4da5"
      }
     },
     "8885838c6daa4210be576ea9be57f9f7": {
      "model_module": "@jupyter-widgets/controls",
      "model_module_version": "1.5.0",
      "model_name": "ProgressStyleModel",
      "state": {
       "_model_module": "@jupyter-widgets/controls",
       "_model_module_version": "1.5.0",
       "_model_name": "ProgressStyleModel",
       "_view_count": null,
       "_view_module": "@jupyter-widgets/base",
       "_view_module_version": "1.2.0",
       "_view_name": "StyleView",
       "bar_color": null,
       "description_width": "initial"
      }
     },
     "93d2eb38e89947e5b7177e038c4e262e": {
      "model_module": "@jupyter-widgets/controls",
      "model_module_version": "1.5.0",
      "model_name": "HBoxModel",
      "state": {
       "_dom_classes": [],
       "_model_module": "@jupyter-widgets/controls",
       "_model_module_version": "1.5.0",
       "_model_name": "HBoxModel",
       "_view_count": null,
       "_view_module": "@jupyter-widgets/controls",
       "_view_module_version": "1.5.0",
       "_view_name": "HBoxView",
       "box_style": "",
       "children": [
        "IPY_MODEL_fd5de0f73f02463d8cc7f101d860e469",
        "IPY_MODEL_04cf394ebc0c4d1ca57b12754888a2fa"
       ],
       "layout": "IPY_MODEL_c49b7410786c4011b36c60d97a1673cf"
      }
     },
     "9f165384b5e64f98982c3eb66ce9b36c": {
      "model_module": "@jupyter-widgets/controls",
      "model_module_version": "1.5.0",
      "model_name": "FloatProgressModel",
      "state": {
       "_dom_classes": [],
       "_model_module": "@jupyter-widgets/controls",
       "_model_module_version": "1.5.0",
       "_model_name": "FloatProgressModel",
       "_view_count": null,
       "_view_module": "@jupyter-widgets/controls",
       "_view_module_version": "1.5.0",
       "_view_name": "ProgressView",
       "bar_style": "success",
       "description": "",
       "description_tooltip": null,
       "layout": "IPY_MODEL_7df371c9bf41442cb8a9ef37857d221d",
       "max": 4.0,
       "min": 0.0,
       "orientation": "horizontal",
       "style": "IPY_MODEL_5deef339e50e4cae985bd3f18c911e7b",
       "value": 4.0
      }
     },
     "a2bdf2b3770d4381a60605194d27ad58": {
      "model_module": "@jupyter-widgets/base",
      "model_module_version": "1.2.0",
      "model_name": "LayoutModel",
      "state": {
       "_model_module": "@jupyter-widgets/base",
       "_model_module_version": "1.2.0",
       "_model_name": "LayoutModel",
       "_view_count": null,
       "_view_module": "@jupyter-widgets/base",
       "_view_module_version": "1.2.0",
       "_view_name": "LayoutView",
       "align_content": null,
       "align_items": null,
       "align_self": null,
       "border": null,
       "bottom": null,
       "display": null,
       "flex": null,
       "flex_flow": null,
       "grid_area": null,
       "grid_auto_columns": null,
       "grid_auto_flow": null,
       "grid_auto_rows": null,
       "grid_column": null,
       "grid_gap": null,
       "grid_row": null,
       "grid_template_areas": null,
       "grid_template_columns": null,
       "grid_template_rows": null,
       "height": null,
       "justify_content": null,
       "justify_items": null,
       "left": null,
       "margin": null,
       "max_height": null,
       "max_width": null,
       "min_height": null,
       "min_width": null,
       "object_fit": null,
       "object_position": null,
       "order": null,
       "overflow": null,
       "overflow_x": null,
       "overflow_y": null,
       "padding": null,
       "right": null,
       "top": null,
       "visibility": null,
       "width": null
      }
     },
     "a6dace9dfa6247bba3c66373233531ce": {
      "model_module": "@jupyter-widgets/controls",
      "model_module_version": "1.5.0",
      "model_name": "DescriptionStyleModel",
      "state": {
       "_model_module": "@jupyter-widgets/controls",
       "_model_module_version": "1.5.0",
       "_model_name": "DescriptionStyleModel",
       "_view_count": null,
       "_view_module": "@jupyter-widgets/base",
       "_view_module_version": "1.2.0",
       "_view_name": "StyleView",
       "description_width": ""
      }
     },
     "a89ac9b73faa4b13bbc165cc4b9e47d0": {
      "model_module": "@jupyter-widgets/base",
      "model_module_version": "1.2.0",
      "model_name": "LayoutModel",
      "state": {
       "_model_module": "@jupyter-widgets/base",
       "_model_module_version": "1.2.0",
       "_model_name": "LayoutModel",
       "_view_count": null,
       "_view_module": "@jupyter-widgets/base",
       "_view_module_version": "1.2.0",
       "_view_name": "LayoutView",
       "align_content": null,
       "align_items": null,
       "align_self": null,
       "border": null,
       "bottom": null,
       "display": null,
       "flex": null,
       "flex_flow": null,
       "grid_area": null,
       "grid_auto_columns": null,
       "grid_auto_flow": null,
       "grid_auto_rows": null,
       "grid_column": null,
       "grid_gap": null,
       "grid_row": null,
       "grid_template_areas": null,
       "grid_template_columns": null,
       "grid_template_rows": null,
       "height": null,
       "justify_content": null,
       "justify_items": null,
       "left": null,
       "margin": null,
       "max_height": null,
       "max_width": null,
       "min_height": null,
       "min_width": null,
       "object_fit": null,
       "object_position": null,
       "order": null,
       "overflow": null,
       "overflow_x": null,
       "overflow_y": null,
       "padding": null,
       "right": null,
       "top": null,
       "visibility": null,
       "width": null
      }
     },
     "a919912e3fbc49c6b6e7817bca5d2f40": {
      "model_module": "@jupyter-widgets/controls",
      "model_module_version": "1.5.0",
      "model_name": "HTMLModel",
      "state": {
       "_dom_classes": [],
       "_model_module": "@jupyter-widgets/controls",
       "_model_module_version": "1.5.0",
       "_model_name": "HTMLModel",
       "_view_count": null,
       "_view_module": "@jupyter-widgets/controls",
       "_view_module_version": "1.5.0",
       "_view_name": "HTMLView",
       "description": "",
       "description_tooltip": null,
       "layout": "IPY_MODEL_b58a133fed844fa8a5a070374de5b57e",
       "placeholder": "​",
       "style": "IPY_MODEL_3cec431a803e4d8ea32f5a4123b2d517",
       "value": "&lt;tqdm.notebook.tqdm_notebook object at 0x7fb996663850&gt;"
      }
     },
     "b58a133fed844fa8a5a070374de5b57e": {
      "model_module": "@jupyter-widgets/base",
      "model_module_version": "1.2.0",
      "model_name": "LayoutModel",
      "state": {
       "_model_module": "@jupyter-widgets/base",
       "_model_module_version": "1.2.0",
       "_model_name": "LayoutModel",
       "_view_count": null,
       "_view_module": "@jupyter-widgets/base",
       "_view_module_version": "1.2.0",
       "_view_name": "LayoutView",
       "align_content": null,
       "align_items": null,
       "align_self": null,
       "border": null,
       "bottom": null,
       "display": null,
       "flex": null,
       "flex_flow": null,
       "grid_area": null,
       "grid_auto_columns": null,
       "grid_auto_flow": null,
       "grid_auto_rows": null,
       "grid_column": null,
       "grid_gap": null,
       "grid_row": null,
       "grid_template_areas": null,
       "grid_template_columns": null,
       "grid_template_rows": null,
       "height": null,
       "justify_content": null,
       "justify_items": null,
       "left": null,
       "margin": null,
       "max_height": null,
       "max_width": null,
       "min_height": null,
       "min_width": null,
       "object_fit": null,
       "object_position": null,
       "order": null,
       "overflow": null,
       "overflow_x": null,
       "overflow_y": null,
       "padding": null,
       "right": null,
       "top": null,
       "visibility": null,
       "width": null
      }
     },
     "b6245bad9f3c43e3a3b5f818527fbdf4": {
      "model_module": "@jupyter-widgets/base",
      "model_module_version": "1.2.0",
      "model_name": "LayoutModel",
      "state": {
       "_model_module": "@jupyter-widgets/base",
       "_model_module_version": "1.2.0",
       "_model_name": "LayoutModel",
       "_view_count": null,
       "_view_module": "@jupyter-widgets/base",
       "_view_module_version": "1.2.0",
       "_view_name": "LayoutView",
       "align_content": null,
       "align_items": null,
       "align_self": null,
       "border": null,
       "bottom": null,
       "display": null,
       "flex": null,
       "flex_flow": null,
       "grid_area": null,
       "grid_auto_columns": null,
       "grid_auto_flow": null,
       "grid_auto_rows": null,
       "grid_column": null,
       "grid_gap": null,
       "grid_row": null,
       "grid_template_areas": null,
       "grid_template_columns": null,
       "grid_template_rows": null,
       "height": null,
       "justify_content": null,
       "justify_items": null,
       "left": null,
       "margin": null,
       "max_height": null,
       "max_width": null,
       "min_height": null,
       "min_width": null,
       "object_fit": null,
       "object_position": null,
       "order": null,
       "overflow": null,
       "overflow_x": null,
       "overflow_y": null,
       "padding": null,
       "right": null,
       "top": null,
       "visibility": null,
       "width": "20px"
      }
     },
     "b7f0e9dbf8534d9da0f504ad7ab1e4ac": {
      "model_module": "@jupyter-widgets/controls",
      "model_module_version": "1.5.0",
      "model_name": "ProgressStyleModel",
      "state": {
       "_model_module": "@jupyter-widgets/controls",
       "_model_module_version": "1.5.0",
       "_model_name": "ProgressStyleModel",
       "_view_count": null,
       "_view_module": "@jupyter-widgets/base",
       "_view_module_version": "1.2.0",
       "_view_name": "StyleView",
       "bar_color": null,
       "description_width": "initial"
      }
     },
     "bbc7dd71dc544e6c97f8e9274dcc4da5": {
      "model_module": "@jupyter-widgets/base",
      "model_module_version": "1.2.0",
      "model_name": "LayoutModel",
      "state": {
       "_model_module": "@jupyter-widgets/base",
       "_model_module_version": "1.2.0",
       "_model_name": "LayoutModel",
       "_view_count": null,
       "_view_module": "@jupyter-widgets/base",
       "_view_module_version": "1.2.0",
       "_view_name": "LayoutView",
       "align_content": null,
       "align_items": null,
       "align_self": null,
       "border": null,
       "bottom": null,
       "display": null,
       "flex": null,
       "flex_flow": null,
       "grid_area": null,
       "grid_auto_columns": null,
       "grid_auto_flow": null,
       "grid_auto_rows": null,
       "grid_column": null,
       "grid_gap": null,
       "grid_row": null,
       "grid_template_areas": null,
       "grid_template_columns": null,
       "grid_template_rows": null,
       "height": null,
       "justify_content": null,
       "justify_items": null,
       "left": null,
       "margin": null,
       "max_height": null,
       "max_width": null,
       "min_height": null,
       "min_width": null,
       "object_fit": null,
       "object_position": null,
       "order": null,
       "overflow": null,
       "overflow_x": null,
       "overflow_y": null,
       "padding": null,
       "right": null,
       "top": null,
       "visibility": null,
       "width": null
      }
     },
     "bdae5224c8244c1eab5bc4e8d547a3b2": {
      "model_module": "@jupyter-widgets/controls",
      "model_module_version": "1.5.0",
      "model_name": "ProgressStyleModel",
      "state": {
       "_model_module": "@jupyter-widgets/controls",
       "_model_module_version": "1.5.0",
       "_model_name": "ProgressStyleModel",
       "_view_count": null,
       "_view_module": "@jupyter-widgets/base",
       "_view_module_version": "1.2.0",
       "_view_name": "StyleView",
       "bar_color": null,
       "description_width": "initial"
      }
     },
     "c20add33ff174b62bba59e75996b4531": {
      "model_module": "@jupyter-widgets/controls",
      "model_module_version": "1.5.0",
      "model_name": "DescriptionStyleModel",
      "state": {
       "_model_module": "@jupyter-widgets/controls",
       "_model_module_version": "1.5.0",
       "_model_name": "DescriptionStyleModel",
       "_view_count": null,
       "_view_module": "@jupyter-widgets/base",
       "_view_module_version": "1.2.0",
       "_view_name": "StyleView",
       "description_width": ""
      }
     },
     "c49b7410786c4011b36c60d97a1673cf": {
      "model_module": "@jupyter-widgets/base",
      "model_module_version": "1.2.0",
      "model_name": "LayoutModel",
      "state": {
       "_model_module": "@jupyter-widgets/base",
       "_model_module_version": "1.2.0",
       "_model_name": "LayoutModel",
       "_view_count": null,
       "_view_module": "@jupyter-widgets/base",
       "_view_module_version": "1.2.0",
       "_view_name": "LayoutView",
       "align_content": null,
       "align_items": null,
       "align_self": null,
       "border": null,
       "bottom": null,
       "display": null,
       "flex": null,
       "flex_flow": null,
       "grid_area": null,
       "grid_auto_columns": null,
       "grid_auto_flow": null,
       "grid_auto_rows": null,
       "grid_column": null,
       "grid_gap": null,
       "grid_row": null,
       "grid_template_areas": null,
       "grid_template_columns": null,
       "grid_template_rows": null,
       "height": null,
       "justify_content": null,
       "justify_items": null,
       "left": null,
       "margin": null,
       "max_height": null,
       "max_width": null,
       "min_height": null,
       "min_width": null,
       "object_fit": null,
       "object_position": null,
       "order": null,
       "overflow": null,
       "overflow_x": null,
       "overflow_y": null,
       "padding": null,
       "right": null,
       "top": null,
       "visibility": null,
       "width": null
      }
     },
     "df4530d43c7349ca878e78ea0eab47b3": {
      "model_module": "@jupyter-widgets/base",
      "model_module_version": "1.2.0",
      "model_name": "LayoutModel",
      "state": {
       "_model_module": "@jupyter-widgets/base",
       "_model_module_version": "1.2.0",
       "_model_name": "LayoutModel",
       "_view_count": null,
       "_view_module": "@jupyter-widgets/base",
       "_view_module_version": "1.2.0",
       "_view_name": "LayoutView",
       "align_content": null,
       "align_items": null,
       "align_self": null,
       "border": null,
       "bottom": null,
       "display": null,
       "flex": null,
       "flex_flow": null,
       "grid_area": null,
       "grid_auto_columns": null,
       "grid_auto_flow": null,
       "grid_auto_rows": null,
       "grid_column": null,
       "grid_gap": null,
       "grid_row": null,
       "grid_template_areas": null,
       "grid_template_columns": null,
       "grid_template_rows": null,
       "height": null,
       "justify_content": null,
       "justify_items": null,
       "left": null,
       "margin": null,
       "max_height": null,
       "max_width": null,
       "min_height": null,
       "min_width": null,
       "object_fit": null,
       "object_position": null,
       "order": null,
       "overflow": null,
       "overflow_x": null,
       "overflow_y": null,
       "padding": null,
       "right": null,
       "top": null,
       "visibility": null,
       "width": null
      }
     },
     "eab9661cfef24028945c86a68bda0423": {
      "model_module": "@jupyter-widgets/base",
      "model_module_version": "1.2.0",
      "model_name": "LayoutModel",
      "state": {
       "_model_module": "@jupyter-widgets/base",
       "_model_module_version": "1.2.0",
       "_model_name": "LayoutModel",
       "_view_count": null,
       "_view_module": "@jupyter-widgets/base",
       "_view_module_version": "1.2.0",
       "_view_name": "LayoutView",
       "align_content": null,
       "align_items": null,
       "align_self": null,
       "border": null,
       "bottom": null,
       "display": null,
       "flex": null,
       "flex_flow": null,
       "grid_area": null,
       "grid_auto_columns": null,
       "grid_auto_flow": null,
       "grid_auto_rows": null,
       "grid_column": null,
       "grid_gap": null,
       "grid_row": null,
       "grid_template_areas": null,
       "grid_template_columns": null,
       "grid_template_rows": null,
       "height": null,
       "justify_content": null,
       "justify_items": null,
       "left": null,
       "margin": null,
       "max_height": null,
       "max_width": null,
       "min_height": null,
       "min_width": null,
       "object_fit": null,
       "object_position": null,
       "order": null,
       "overflow": null,
       "overflow_x": null,
       "overflow_y": null,
       "padding": null,
       "right": null,
       "top": null,
       "visibility": null,
       "width": null
      }
     },
     "fd5de0f73f02463d8cc7f101d860e469": {
      "model_module": "@jupyter-widgets/controls",
      "model_module_version": "1.5.0",
      "model_name": "FloatProgressModel",
      "state": {
       "_dom_classes": [],
       "_model_module": "@jupyter-widgets/controls",
       "_model_module_version": "1.5.0",
       "_model_name": "FloatProgressModel",
       "_view_count": null,
       "_view_module": "@jupyter-widgets/controls",
       "_view_module_version": "1.5.0",
       "_view_name": "ProgressView",
       "bar_style": "success",
       "description": "",
       "description_tooltip": null,
       "layout": "IPY_MODEL_3713240782bb41879b1a19cbf0698f67",
       "max": 4.0,
       "min": 0.0,
       "orientation": "horizontal",
       "style": "IPY_MODEL_b7f0e9dbf8534d9da0f504ad7ab1e4ac",
       "value": 4.0
      }
     }
    },
    "version_major": 2,
    "version_minor": 0
   }
  }
 },
 "nbformat": 4,
 "nbformat_minor": 5
}
